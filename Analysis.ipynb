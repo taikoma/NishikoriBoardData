{
 "cells": [
  {
   "cell_type": "code",
   "execution_count": 17,
   "metadata": {},
   "outputs": [],
   "source": [
    "import pandas as pd\n",
    "import os\n",
    "import matplotlib.pyplot as plt\n",
    "import numpy as np\n",
    "import codecs"
   ]
  },
  {
   "cell_type": "code",
   "execution_count": 2,
   "metadata": {},
   "outputs": [
    {
     "name": "stdout",
     "output_type": "stream",
     "text": [
      "201605FrenchOpen1.csv\n",
      "201605Rome1.csv\n",
      "201605Rome2.csv\n",
      "201608Cincinnati.csv\n",
      "201608RioOlympic1.csv\n",
      "201608RioOlympic2.csv\n",
      "201609USOpen1.csv\n",
      "201609USOpen2.csv\n",
      "201610Basel.csv\n",
      "201610Paris.csv\n",
      "201611WTF.csv\n",
      "201701Brisbane.csv\n",
      "201702Rio.csv\n",
      "201703IndianWels.csv\n",
      "201705French2.csv\n",
      "201705Geneva.csv\n",
      "201705Rome.csv\n",
      "201707Washington.csv\n",
      "201707Wimbledon.csv\n",
      "201708Montreal.csv\n",
      "20180214_Newyork.csv\n",
      "20180324_Miami.csv\n",
      "20180514_Rome.csv\n",
      "20180527_French.csv\n",
      "20180618_Halle.csv\n",
      "20180703_Winbledon.csv\n",
      "20180807_Toronto.csv\n",
      "20180829_USOpen.csv\n",
      "20180919_Metz.csv\n",
      "20181008_Shanghai.csv\n",
      "20181023_Vienna.csv\n",
      "20181112_ATPFinals.csv\n",
      "20190102_Brisben.csv\n",
      "20190213_Rotterdam.csv\n",
      "20190311_IndianWells.csv\n",
      "20190323_Miami.csv\n",
      "20190423_Barcelona.csv\n",
      "20190702_Wimbledon.csv\n",
      "20190814_Cincinnati.csv\n",
      "20190826_USOpen.csv\n"
     ]
    },
    {
     "ename": "NameError",
     "evalue": "name 'files' is not defined",
     "output_type": "error",
     "traceback": [
      "\u001b[1;31m---------------------------------------------------------------------------\u001b[0m",
      "\u001b[1;31mNameError\u001b[0m                                 Traceback (most recent call last)",
      "\u001b[1;32m<ipython-input-2-b2c39deb3bf2>\u001b[0m in \u001b[0;36m<module>\u001b[1;34m\u001b[0m\n\u001b[0;32m      7\u001b[0m \u001b[1;31m#list=[]\u001b[0m\u001b[1;33m\u001b[0m\u001b[1;33m\u001b[0m\u001b[1;33m\u001b[0m\u001b[0m\n\u001b[0;32m      8\u001b[0m \u001b[1;33m\u001b[0m\u001b[0m\n\u001b[1;32m----> 9\u001b[1;33m \u001b[1;32mfor\u001b[0m \u001b[0mfilename\u001b[0m \u001b[1;32min\u001b[0m \u001b[0mfiles\u001b[0m\u001b[1;33m:\u001b[0m\u001b[1;33m\u001b[0m\u001b[1;33m\u001b[0m\u001b[0m\n\u001b[0m\u001b[0;32m     10\u001b[0m     \u001b[0mprint\u001b[0m\u001b[1;33m(\u001b[0m\u001b[0mfilename\u001b[0m\u001b[1;33m)\u001b[0m\u001b[1;33m\u001b[0m\u001b[1;33m\u001b[0m\u001b[0m\n\u001b[0;32m     11\u001b[0m     \u001b[0mdf_temp\u001b[0m\u001b[1;33m=\u001b[0m\u001b[0mpd\u001b[0m\u001b[1;33m.\u001b[0m\u001b[0mread_csv\u001b[0m\u001b[1;33m(\u001b[0m\u001b[0mpath\u001b[0m\u001b[1;33m+\u001b[0m\u001b[0mfilename\u001b[0m\u001b[1;33m)\u001b[0m\u001b[1;31m#, encoding=\"shift-jis\"\u001b[0m\u001b[1;33m\u001b[0m\u001b[1;33m\u001b[0m\u001b[0m\n",
      "\u001b[1;31mNameError\u001b[0m: name 'files' is not defined"
     ]
    }
   ],
   "source": [
    "path=\"./data/\"\n",
    "#files=os.listdir(path)\n",
    "for pathname, dirnames, filenames in os.walk(path):\n",
    "    for filename in filenames:\n",
    "        print(filename)\n",
    "        \n",
    "#print(files)\n",
    "#list=[]\n",
    "\n",
    "for filename in files:\n",
    "    print(filename)\n",
    "    df_temp=pd.read_csv(path+filename)#, encoding=\"shift-jis\"\n",
    "    df_temp['filename']=filename\n",
    "    list.append(df_temp)\n",
    "#df_2016=pd.concat(list,sort=False)\n",
    "df=pd.concat(list,sort=False)\n",
    "df=df.drop(\"index\", axis=1)\n"
   ]
  },
  {
   "cell_type": "code",
   "execution_count": 44,
   "metadata": {},
   "outputs": [
    {
     "name": "stdout",
     "output_type": "stream",
     "text": [
      "./data/2016/201605FrenchOpen1.csv\n",
      "./data/2016/201605Rome1.csv\n",
      "./data/2016/201605Rome2.csv\n",
      "./data/2016/201608Cincinnati.csv\n",
      "./data/2016/201608RioOlympic1.csv\n",
      "./data/2016/201608RioOlympic2.csv\n",
      "./data/2016/201609USOpen1.csv\n",
      "./data/2016/201609USOpen2.csv\n",
      "./data/2016/201610Basel.csv\n",
      "./data/2016/201610Paris.csv\n",
      "./data/2016/201611WTF.csv\n",
      "./data/2017/201701Brisbane.csv\n",
      "./data/2017/201702Rio.csv\n",
      "./data/2017/201703IndianWels.csv\n",
      "./data/2017/201705French2.csv\n",
      "./data/2017/201705Geneva.csv\n",
      "./data/2017/201705Rome.csv\n",
      "./data/2017/201707Washington.csv\n",
      "./data/2017/201707Wimbledon.csv\n",
      "./data/2017/201708Montreal.csv\n",
      "./data/2018/20180214_Newyork.csv\n",
      "./data/2018/20180324_Miami.csv\n",
      "./data/2018/20180514_Rome.csv\n",
      "./data/2018/20180527_French.csv\n",
      "./data/2018/20180618_Halle.csv\n",
      "./data/2018/20180703_Winbledon.csv\n",
      "./data/2018/20180807_Toronto.csv\n",
      "./data/2018/20180829_USOpen.csv\n",
      "./data/2018/20180919_Metz.csv\n",
      "./data/2018/20181008_Shanghai.csv\n",
      "./data/2018/20181023_Vienna.csv\n",
      "./data/2018/20181112_ATPFinals.csv\n",
      "./data/2019/20190102_Brisben.csv\n",
      "./data/2019/20190213_Rotterdam.csv\n",
      "./data/2019/20190311_IndianWells.csv\n",
      "./data/2019/20190323_Miami.csv\n",
      "./data/2019/20190423_Barcelona.csv\n",
      "./data/2019/20190702_Wimbledon.csv\n",
      "./data/2019/20190814_Cincinnati.csv\n",
      "./data/2019/20190826_USOpen.csv\n"
     ]
    }
   ],
   "source": [
    "path=\"./data/\"\n",
    "list=[]\n",
    "#files=os.listdir(path)\n",
    "for pathname, dirnames, filenames in os.walk(path):\n",
    "    for filename in filenames:\n",
    "#         print(pathname+\"/\"+filename)\n",
    "        path=pathname+\"/\"+filename\n",
    "        print(path)\n",
    "        #with codecs.open(path, \"r\", \"utf8\", \"ignore\") as file:\n",
    "        #    df_temp = pd.read_table(file, delimiter=\",\")\n",
    "            \n",
    "        df_temp=pd.read_csv(path)#, encoding=\"shift-jis\"    utf8     cp932,encoding='utf-8'\n",
    "#         print(df_temp)\n",
    "        df_temp['filename']=filename\n",
    "        list.append(df_temp)\n",
    "\n",
    "\n",
    "df=pd.concat(list,sort=False)\n",
    "df=df.drop(\"index\", axis=1)\n"
   ]
  },
  {
   "cell_type": "code",
   "execution_count": 45,
   "metadata": {},
   "outputs": [
    {
     "data": {
      "text/html": [
       "<div>\n",
       "<style scoped>\n",
       "    .dataframe tbody tr th:only-of-type {\n",
       "        vertical-align: middle;\n",
       "    }\n",
       "\n",
       "    .dataframe tbody tr th {\n",
       "        vertical-align: top;\n",
       "    }\n",
       "\n",
       "    .dataframe thead th {\n",
       "        text-align: right;\n",
       "    }\n",
       "</style>\n",
       "<table border=\"1\" class=\"dataframe\">\n",
       "  <thead>\n",
       "    <tr style=\"text-align: right;\">\n",
       "      <th></th>\n",
       "      <th>Unnamed: 0</th>\n",
       "      <th>AceDbF</th>\n",
       "      <th>Cource</th>\n",
       "      <th>FirstSecond</th>\n",
       "      <th>OpponentPlayer</th>\n",
       "      <th>Server</th>\n",
       "      <th>Set</th>\n",
       "      <th>Speed</th>\n",
       "      <th>TotalGame</th>\n",
       "      <th>Tournament</th>\n",
       "      <th>WinLose</th>\n",
       "      <th>ScoreServer</th>\n",
       "      <th>ScoreReturner</th>\n",
       "      <th>Side</th>\n",
       "      <th>WonA</th>\n",
       "      <th>WonB</th>\n",
       "      <th>filename</th>\n",
       "      <th>Unnamed: 8</th>\n",
       "    </tr>\n",
       "  </thead>\n",
       "  <tbody>\n",
       "    <tr>\n",
       "      <td>0</td>\n",
       "      <td>0.0</td>\n",
       "      <td>NaN</td>\n",
       "      <td>c</td>\n",
       "      <td>2</td>\n",
       "      <td>リシャール・ガスケ</td>\n",
       "      <td>圭</td>\n",
       "      <td>1.0</td>\n",
       "      <td>NaN</td>\n",
       "      <td>1</td>\n",
       "      <td>201605全仏その１</td>\n",
       "      <td>○</td>\n",
       "      <td>0</td>\n",
       "      <td>0</td>\n",
       "      <td>Deuce</td>\n",
       "      <td>1</td>\n",
       "      <td>0</td>\n",
       "      <td>201605FrenchOpen1.csv</td>\n",
       "      <td>NaN</td>\n",
       "    </tr>\n",
       "    <tr>\n",
       "      <td>1</td>\n",
       "      <td>1.0</td>\n",
       "      <td>NaN</td>\n",
       "      <td>c</td>\n",
       "      <td>1</td>\n",
       "      <td>リシャール・ガスケ</td>\n",
       "      <td>圭</td>\n",
       "      <td>1.0</td>\n",
       "      <td>NaN</td>\n",
       "      <td>1</td>\n",
       "      <td>201605全仏その１</td>\n",
       "      <td>○</td>\n",
       "      <td>15</td>\n",
       "      <td>0</td>\n",
       "      <td>Ad</td>\n",
       "      <td>1</td>\n",
       "      <td>0</td>\n",
       "      <td>201605FrenchOpen1.csv</td>\n",
       "      <td>NaN</td>\n",
       "    </tr>\n",
       "    <tr>\n",
       "      <td>2</td>\n",
       "      <td>2.0</td>\n",
       "      <td>NaN</td>\n",
       "      <td>w</td>\n",
       "      <td>2</td>\n",
       "      <td>リシャール・ガスケ</td>\n",
       "      <td>圭</td>\n",
       "      <td>1.0</td>\n",
       "      <td>NaN</td>\n",
       "      <td>1</td>\n",
       "      <td>201605全仏その１</td>\n",
       "      <td>○</td>\n",
       "      <td>30</td>\n",
       "      <td>0</td>\n",
       "      <td>Deuce</td>\n",
       "      <td>1</td>\n",
       "      <td>0</td>\n",
       "      <td>201605FrenchOpen1.csv</td>\n",
       "      <td>NaN</td>\n",
       "    </tr>\n",
       "    <tr>\n",
       "      <td>3</td>\n",
       "      <td>3.0</td>\n",
       "      <td>NaN</td>\n",
       "      <td>w</td>\n",
       "      <td>2</td>\n",
       "      <td>リシャール・ガスケ</td>\n",
       "      <td>圭</td>\n",
       "      <td>1.0</td>\n",
       "      <td>NaN</td>\n",
       "      <td>1</td>\n",
       "      <td>201605全仏その１</td>\n",
       "      <td>○</td>\n",
       "      <td>40</td>\n",
       "      <td>0</td>\n",
       "      <td>Ad</td>\n",
       "      <td>1</td>\n",
       "      <td>0</td>\n",
       "      <td>201605FrenchOpen1.csv</td>\n",
       "      <td>NaN</td>\n",
       "    </tr>\n",
       "    <tr>\n",
       "      <td>4</td>\n",
       "      <td>4.0</td>\n",
       "      <td>NaN</td>\n",
       "      <td>c</td>\n",
       "      <td>2</td>\n",
       "      <td>リシャール・ガスケ</td>\n",
       "      <td>圭</td>\n",
       "      <td>1.0</td>\n",
       "      <td>NaN</td>\n",
       "      <td>1</td>\n",
       "      <td>201605全仏その１</td>\n",
       "      <td>○</td>\n",
       "      <td>NaN</td>\n",
       "      <td>NaN</td>\n",
       "      <td>Deuce</td>\n",
       "      <td>1</td>\n",
       "      <td>0</td>\n",
       "      <td>201605FrenchOpen1.csv</td>\n",
       "      <td>NaN</td>\n",
       "    </tr>\n",
       "    <tr>\n",
       "      <td>...</td>\n",
       "      <td>...</td>\n",
       "      <td>...</td>\n",
       "      <td>...</td>\n",
       "      <td>...</td>\n",
       "      <td>...</td>\n",
       "      <td>...</td>\n",
       "      <td>...</td>\n",
       "      <td>...</td>\n",
       "      <td>...</td>\n",
       "      <td>...</td>\n",
       "      <td>...</td>\n",
       "      <td>...</td>\n",
       "      <td>...</td>\n",
       "      <td>...</td>\n",
       "      <td>...</td>\n",
       "      <td>...</td>\n",
       "      <td>...</td>\n",
       "      <td>...</td>\n",
       "    </tr>\n",
       "    <tr>\n",
       "      <td>497</td>\n",
       "      <td>NaN</td>\n",
       "      <td>NaN</td>\n",
       "      <td>b</td>\n",
       "      <td>2</td>\n",
       "      <td>トゥルンゲリティ</td>\n",
       "      <td>圭</td>\n",
       "      <td>2.0</td>\n",
       "      <td>143.0</td>\n",
       "      <td>5</td>\n",
       "      <td>201908全米オープン</td>\n",
       "      <td>○</td>\n",
       "      <td>40</td>\n",
       "      <td>30</td>\n",
       "      <td>Ad</td>\n",
       "      <td>1</td>\n",
       "      <td>0</td>\n",
       "      <td>20190826_USOpen.csv</td>\n",
       "      <td>NaN</td>\n",
       "    </tr>\n",
       "    <tr>\n",
       "      <td>498</td>\n",
       "      <td>NaN</td>\n",
       "      <td>NaN</td>\n",
       "      <td>c</td>\n",
       "      <td>1</td>\n",
       "      <td>トゥルンゲリティ</td>\n",
       "      <td>鶴</td>\n",
       "      <td>2.0</td>\n",
       "      <td>175.0</td>\n",
       "      <td>6</td>\n",
       "      <td>201908全米オープン</td>\n",
       "      <td>○</td>\n",
       "      <td>0</td>\n",
       "      <td>0</td>\n",
       "      <td>Deuce</td>\n",
       "      <td>1</td>\n",
       "      <td>0</td>\n",
       "      <td>20190826_USOpen.csv</td>\n",
       "      <td>NaN</td>\n",
       "    </tr>\n",
       "    <tr>\n",
       "      <td>499</td>\n",
       "      <td>NaN</td>\n",
       "      <td>NaN</td>\n",
       "      <td>w</td>\n",
       "      <td>1</td>\n",
       "      <td>トゥルンゲリティ</td>\n",
       "      <td>鶴</td>\n",
       "      <td>2.0</td>\n",
       "      <td>167.0</td>\n",
       "      <td>6</td>\n",
       "      <td>201908全米オープン</td>\n",
       "      <td>×</td>\n",
       "      <td>15</td>\n",
       "      <td>0</td>\n",
       "      <td>Ad</td>\n",
       "      <td>0</td>\n",
       "      <td>1</td>\n",
       "      <td>20190826_USOpen.csv</td>\n",
       "      <td>NaN</td>\n",
       "    </tr>\n",
       "    <tr>\n",
       "      <td>500</td>\n",
       "      <td>NaN</td>\n",
       "      <td>NaN</td>\n",
       "      <td>w</td>\n",
       "      <td>1</td>\n",
       "      <td>トゥルンゲリティ</td>\n",
       "      <td>鶴</td>\n",
       "      <td>2.0</td>\n",
       "      <td>NaN</td>\n",
       "      <td>6</td>\n",
       "      <td>201908全米オープン</td>\n",
       "      <td>○</td>\n",
       "      <td>15</td>\n",
       "      <td>15</td>\n",
       "      <td>Deuce</td>\n",
       "      <td>1</td>\n",
       "      <td>0</td>\n",
       "      <td>20190826_USOpen.csv</td>\n",
       "      <td>NaN</td>\n",
       "    </tr>\n",
       "    <tr>\n",
       "      <td>501</td>\n",
       "      <td>NaN</td>\n",
       "      <td>NaN</td>\n",
       "      <td>w</td>\n",
       "      <td>1</td>\n",
       "      <td>トゥルンゲリティ</td>\n",
       "      <td>鶴</td>\n",
       "      <td>2.0</td>\n",
       "      <td>168.0</td>\n",
       "      <td>6</td>\n",
       "      <td>201908全米オープン</td>\n",
       "      <td>○</td>\n",
       "      <td>30</td>\n",
       "      <td>15</td>\n",
       "      <td>Ad</td>\n",
       "      <td>1</td>\n",
       "      <td>0</td>\n",
       "      <td>20190826_USOpen.csv</td>\n",
       "      <td>NaN</td>\n",
       "    </tr>\n",
       "  </tbody>\n",
       "</table>\n",
       "<p>14765 rows × 18 columns</p>\n",
       "</div>"
      ],
      "text/plain": [
       "     Unnamed: 0 AceDbF Cource FirstSecond OpponentPlayer Server  Set  Speed  \\\n",
       "0           0.0    NaN      c           2      リシャール・ガスケ      圭  1.0    NaN   \n",
       "1           1.0    NaN      c           1      リシャール・ガスケ      圭  1.0    NaN   \n",
       "2           2.0    NaN      w           2      リシャール・ガスケ      圭  1.0    NaN   \n",
       "3           3.0    NaN      w           2      リシャール・ガスケ      圭  1.0    NaN   \n",
       "4           4.0    NaN      c           2      リシャール・ガスケ      圭  1.0    NaN   \n",
       "..          ...    ...    ...         ...            ...    ...  ...    ...   \n",
       "497         NaN    NaN      b           2       トゥルンゲリティ      圭  2.0  143.0   \n",
       "498         NaN    NaN      c           1       トゥルンゲリティ      鶴  2.0  175.0   \n",
       "499         NaN    NaN      w           1       トゥルンゲリティ      鶴  2.0  167.0   \n",
       "500         NaN    NaN      w           1       トゥルンゲリティ      鶴  2.0    NaN   \n",
       "501         NaN    NaN      w           1       トゥルンゲリティ      鶴  2.0  168.0   \n",
       "\n",
       "     TotalGame    Tournament WinLose ScoreServer ScoreReturner   Side  WonA  \\\n",
       "0            1   201605全仏その１       ○           0             0  Deuce     1   \n",
       "1            1   201605全仏その１       ○          15             0     Ad     1   \n",
       "2            1   201605全仏その１       ○          30             0  Deuce     1   \n",
       "3            1   201605全仏その１       ○          40             0     Ad     1   \n",
       "4            1   201605全仏その１       ○         NaN           NaN  Deuce     1   \n",
       "..         ...           ...     ...         ...           ...    ...   ...   \n",
       "497          5  201908全米オープン       ○          40            30     Ad     1   \n",
       "498          6  201908全米オープン       ○           0             0  Deuce     1   \n",
       "499          6  201908全米オープン       ×          15             0     Ad     0   \n",
       "500          6  201908全米オープン       ○          15            15  Deuce     1   \n",
       "501          6  201908全米オープン       ○          30            15     Ad     1   \n",
       "\n",
       "     WonB               filename  Unnamed: 8  \n",
       "0       0  201605FrenchOpen1.csv         NaN  \n",
       "1       0  201605FrenchOpen1.csv         NaN  \n",
       "2       0  201605FrenchOpen1.csv         NaN  \n",
       "3       0  201605FrenchOpen1.csv         NaN  \n",
       "4       0  201605FrenchOpen1.csv         NaN  \n",
       "..    ...                    ...         ...  \n",
       "497     0    20190826_USOpen.csv         NaN  \n",
       "498     0    20190826_USOpen.csv         NaN  \n",
       "499     1    20190826_USOpen.csv         NaN  \n",
       "500     0    20190826_USOpen.csv         NaN  \n",
       "501     0    20190826_USOpen.csv         NaN  \n",
       "\n",
       "[14765 rows x 18 columns]"
      ]
     },
     "execution_count": 45,
     "metadata": {},
     "output_type": "execute_result"
    }
   ],
   "source": [
    "df"
   ]
  },
  {
   "cell_type": "code",
   "execution_count": null,
   "metadata": {},
   "outputs": [],
   "source": []
  },
  {
   "cell_type": "code",
   "execution_count": 5,
   "metadata": {},
   "outputs": [],
   "source": [
    "df.to_csv(\"test.csv\")"
   ]
  },
  {
   "cell_type": "code",
   "execution_count": 159,
   "metadata": {},
   "outputs": [],
   "source": [
    "\n",
    "df.reset_index()\n",
    "df_kei=df[df[\"Server\"]==\"圭\"]\n",
    "\n",
    "\n",
    "df_kei_1st=df_kei[df_kei[\"FirstSecond\"]==\"1\"]\n",
    "df_kei_1st=df_kei_1st[df_kei_1st['Speed']>100]\n",
    "df_kei_1st=df_kei_1st[df_kei_1st['Speed']<250]\n",
    "\n",
    "df_kei_1st_deuce=df_kei_1st[df_kei_1st[\"Side\"]==\"Deuce\"]\n",
    "df_kei_1st_ad=df_kei_1st[df_kei_1st[\"Side\"]==\"Ad\"]\n",
    "\n",
    "df_kei_1st_deuce_w=df_kei_1st_deuce[df_kei_1st_deuce[\"Cource\"]=='w']\n",
    "df_kei_1st_ad_w=df_kei_1st_ad[df_kei_1st_ad[\"Cource\"]=='w']\n",
    "\n",
    "df_kei_1st_deuce_c=df_kei_1st_deuce[df_kei_1st_deuce[\"Cource\"]=='c']\n",
    "df_kei_1st_ad_c=df_kei_1st_ad[df_kei_1st_ad[\"Cource\"]=='c']\n",
    "\n",
    "df_kei_1st_ad_w_won=df_kei_1st_ad_w[df_kei_1st_ad_w[\"WinLose\"]==\"○\"]\n",
    "df_kei_1st_ad_w_lost=df_kei_1st_ad_w[df_kei_1st_ad_w[\"WinLose\"]==\"×\"]"
   ]
  },
  {
   "cell_type": "code",
   "execution_count": 160,
   "metadata": {},
   "outputs": [
    {
     "data": {
      "text/plain": [
       "<matplotlib.axes._subplots.AxesSubplot at 0x2185dd35d88>"
      ]
     },
     "execution_count": 160,
     "metadata": {},
     "output_type": "execute_result"
    },
    {
     "data": {
      "image/png": "[encoded data removed]",
      "text/plain": [
       "<Figure size 432x288 with 1 Axes>"
      ]
     },
     "metadata": {
      "needs_background": "light"
     },
     "output_type": "display_data"
    }
   ],
   "source": [
    "df_kei_1st_ad_w_won['Speed'].hist(bins=20, alpha=.5,label=\"won\")\n",
    "df_kei_1st_ad_w_lost['Speed'].hist(bins=20,color=\"#F8766D\", alpha=.5,label=\"lost\")"
   ]
  },
  {
   "cell_type": "code",
   "execution_count": 162,
   "metadata": {},
   "outputs": [
    {
     "data": {
      "text/plain": [
       "171.39649122807018"
      ]
     },
     "execution_count": 162,
     "metadata": {},
     "output_type": "execute_result"
    }
   ],
   "source": [
    "df_kei_1st_ad_w_won['Speed'].mean()"
   ]
  },
  {
   "cell_type": "code",
   "execution_count": 163,
   "metadata": {},
   "outputs": [
    {
     "data": {
      "text/plain": [
       "169.67164179104478"
      ]
     },
     "execution_count": 163,
     "metadata": {},
     "output_type": "execute_result"
    }
   ],
   "source": [
    "df_kei_1st_ad_w_lost['Speed'].mean()"
   ]
  },
  {
   "cell_type": "code",
   "execution_count": 139,
   "metadata": {},
   "outputs": [
    {
     "data": {
      "text/html": [
       "<div>\n",
       "<style scoped>\n",
       "    .dataframe tbody tr th:only-of-type {\n",
       "        vertical-align: middle;\n",
       "    }\n",
       "\n",
       "    .dataframe tbody tr th {\n",
       "        vertical-align: top;\n",
       "    }\n",
       "\n",
       "    .dataframe thead th {\n",
       "        text-align: right;\n",
       "    }\n",
       "</style>\n",
       "<table border=\"1\" class=\"dataframe\">\n",
       "  <thead>\n",
       "    <tr style=\"text-align: right;\">\n",
       "      <th></th>\n",
       "      <th>Unnamed: 0</th>\n",
       "      <th>Tournament</th>\n",
       "      <th>OpponentPlayer</th>\n",
       "      <th>Set</th>\n",
       "      <th>TotalGame</th>\n",
       "      <th>Server</th>\n",
       "      <th>WinLose</th>\n",
       "      <th>FirstSecond</th>\n",
       "      <th>Cource</th>\n",
       "      <th>Speed</th>\n",
       "      <th>AceDbF</th>\n",
       "      <th>ScoreServer</th>\n",
       "      <th>ScoreReturner</th>\n",
       "      <th>Side</th>\n",
       "      <th>WonA</th>\n",
       "      <th>WonB</th>\n",
       "      <th>filename</th>\n",
       "    </tr>\n",
       "  </thead>\n",
       "  <tbody>\n",
       "    <tr>\n",
       "      <td>7</td>\n",
       "      <td>7.0</td>\n",
       "      <td>201802ニューヨーク</td>\n",
       "      <td>ケビン・アンダーソン</td>\n",
       "      <td>1.0</td>\n",
       "      <td>2</td>\n",
       "      <td>圭</td>\n",
       "      <td>×</td>\n",
       "      <td>1</td>\n",
       "      <td>w</td>\n",
       "      <td>162.0</td>\n",
       "      <td>NaN</td>\n",
       "      <td>15</td>\n",
       "      <td>0</td>\n",
       "      <td>Ad</td>\n",
       "      <td>0</td>\n",
       "      <td>1</td>\n",
       "      <td>20180214_Newyork.csv</td>\n",
       "    </tr>\n",
       "    <tr>\n",
       "      <td>9</td>\n",
       "      <td>9.0</td>\n",
       "      <td>201802ニューヨーク</td>\n",
       "      <td>ケビン・アンダーソン</td>\n",
       "      <td>1.0</td>\n",
       "      <td>2</td>\n",
       "      <td>圭</td>\n",
       "      <td>×</td>\n",
       "      <td>1</td>\n",
       "      <td>c</td>\n",
       "      <td>170.0</td>\n",
       "      <td>NaN</td>\n",
       "      <td>15</td>\n",
       "      <td>30</td>\n",
       "      <td>Ad</td>\n",
       "      <td>0</td>\n",
       "      <td>1</td>\n",
       "      <td>20180214_Newyork.csv</td>\n",
       "    </tr>\n",
       "    <tr>\n",
       "      <td>14</td>\n",
       "      <td>14.0</td>\n",
       "      <td>201802ニューヨーク</td>\n",
       "      <td>ケビン・アンダーソン</td>\n",
       "      <td>1.0</td>\n",
       "      <td>4</td>\n",
       "      <td>圭</td>\n",
       "      <td>×</td>\n",
       "      <td>1</td>\n",
       "      <td>b</td>\n",
       "      <td>170.0</td>\n",
       "      <td>NaN</td>\n",
       "      <td>0</td>\n",
       "      <td>0</td>\n",
       "      <td>Deuce</td>\n",
       "      <td>0</td>\n",
       "      <td>1</td>\n",
       "      <td>20180214_Newyork.csv</td>\n",
       "    </tr>\n",
       "    <tr>\n",
       "      <td>15</td>\n",
       "      <td>15.0</td>\n",
       "      <td>201802ニューヨーク</td>\n",
       "      <td>ケビン・アンダーソン</td>\n",
       "      <td>1.0</td>\n",
       "      <td>4</td>\n",
       "      <td>圭</td>\n",
       "      <td>×</td>\n",
       "      <td>1</td>\n",
       "      <td>w</td>\n",
       "      <td>167.0</td>\n",
       "      <td>NaN</td>\n",
       "      <td>0</td>\n",
       "      <td>15</td>\n",
       "      <td>Ad</td>\n",
       "      <td>0</td>\n",
       "      <td>1</td>\n",
       "      <td>20180214_Newyork.csv</td>\n",
       "    </tr>\n",
       "    <tr>\n",
       "      <td>18</td>\n",
       "      <td>18.0</td>\n",
       "      <td>201802ニューヨーク</td>\n",
       "      <td>ケビン・アンダーソン</td>\n",
       "      <td>1.0</td>\n",
       "      <td>4</td>\n",
       "      <td>圭</td>\n",
       "      <td>○</td>\n",
       "      <td>1</td>\n",
       "      <td>c</td>\n",
       "      <td>178.0</td>\n",
       "      <td>NaN</td>\n",
       "      <td>15</td>\n",
       "      <td>40</td>\n",
       "      <td>Deuce</td>\n",
       "      <td>1</td>\n",
       "      <td>0</td>\n",
       "      <td>20180214_Newyork.csv</td>\n",
       "    </tr>\n",
       "    <tr>\n",
       "      <td>...</td>\n",
       "      <td>...</td>\n",
       "      <td>...</td>\n",
       "      <td>...</td>\n",
       "      <td>...</td>\n",
       "      <td>...</td>\n",
       "      <td>...</td>\n",
       "      <td>...</td>\n",
       "      <td>...</td>\n",
       "      <td>...</td>\n",
       "      <td>...</td>\n",
       "      <td>...</td>\n",
       "      <td>...</td>\n",
       "      <td>...</td>\n",
       "      <td>...</td>\n",
       "      <td>...</td>\n",
       "      <td>...</td>\n",
       "      <td>...</td>\n",
       "    </tr>\n",
       "    <tr>\n",
       "      <td>475</td>\n",
       "      <td>NaN</td>\n",
       "      <td>201908全米オープン</td>\n",
       "      <td>トゥルンゲリティ</td>\n",
       "      <td>2.0</td>\n",
       "      <td>1</td>\n",
       "      <td>圭</td>\n",
       "      <td>×</td>\n",
       "      <td>1</td>\n",
       "      <td>c</td>\n",
       "      <td>165.0</td>\n",
       "      <td>NaN</td>\n",
       "      <td>30</td>\n",
       "      <td>0</td>\n",
       "      <td>Deuce</td>\n",
       "      <td>0</td>\n",
       "      <td>1</td>\n",
       "      <td>20190826_USOpen.csv</td>\n",
       "    </tr>\n",
       "    <tr>\n",
       "      <td>483</td>\n",
       "      <td>NaN</td>\n",
       "      <td>201908全米オープン</td>\n",
       "      <td>トゥルンゲリティ</td>\n",
       "      <td>2.0</td>\n",
       "      <td>3</td>\n",
       "      <td>圭</td>\n",
       "      <td>○</td>\n",
       "      <td>1</td>\n",
       "      <td>w</td>\n",
       "      <td>151.0</td>\n",
       "      <td>NaN</td>\n",
       "      <td>0</td>\n",
       "      <td>0</td>\n",
       "      <td>Deuce</td>\n",
       "      <td>1</td>\n",
       "      <td>0</td>\n",
       "      <td>20190826_USOpen.csv</td>\n",
       "    </tr>\n",
       "    <tr>\n",
       "      <td>492</td>\n",
       "      <td>NaN</td>\n",
       "      <td>201908全米オープン</td>\n",
       "      <td>トゥルンゲリティ</td>\n",
       "      <td>2.0</td>\n",
       "      <td>5</td>\n",
       "      <td>圭</td>\n",
       "      <td>○</td>\n",
       "      <td>1</td>\n",
       "      <td>c</td>\n",
       "      <td>172.0</td>\n",
       "      <td>Ac</td>\n",
       "      <td>0</td>\n",
       "      <td>0</td>\n",
       "      <td>Deuce</td>\n",
       "      <td>1</td>\n",
       "      <td>0</td>\n",
       "      <td>20190826_USOpen.csv</td>\n",
       "    </tr>\n",
       "    <tr>\n",
       "      <td>493</td>\n",
       "      <td>NaN</td>\n",
       "      <td>201908全米オープン</td>\n",
       "      <td>トゥルンゲリティ</td>\n",
       "      <td>2.0</td>\n",
       "      <td>5</td>\n",
       "      <td>圭</td>\n",
       "      <td>○</td>\n",
       "      <td>1</td>\n",
       "      <td>w</td>\n",
       "      <td>172.0</td>\n",
       "      <td>NaN</td>\n",
       "      <td>15</td>\n",
       "      <td>0</td>\n",
       "      <td>Ad</td>\n",
       "      <td>1</td>\n",
       "      <td>0</td>\n",
       "      <td>20190826_USOpen.csv</td>\n",
       "    </tr>\n",
       "    <tr>\n",
       "      <td>494</td>\n",
       "      <td>NaN</td>\n",
       "      <td>201908全米オープン</td>\n",
       "      <td>トゥルンゲリティ</td>\n",
       "      <td>2.0</td>\n",
       "      <td>5</td>\n",
       "      <td>圭</td>\n",
       "      <td>○</td>\n",
       "      <td>1</td>\n",
       "      <td>w</td>\n",
       "      <td>157.0</td>\n",
       "      <td>NaN</td>\n",
       "      <td>30</td>\n",
       "      <td>0</td>\n",
       "      <td>Deuce</td>\n",
       "      <td>1</td>\n",
       "      <td>0</td>\n",
       "      <td>20190826_USOpen.csv</td>\n",
       "    </tr>\n",
       "  </tbody>\n",
       "</table>\n",
       "<p>1672 rows × 17 columns</p>\n",
       "</div>"
      ],
      "text/plain": [
       "     Unnamed: 0    Tournament OpponentPlayer  Set  TotalGame Server WinLose  \\\n",
       "7           7.0  201802ニューヨーク     ケビン・アンダーソン  1.0          2      圭       ×   \n",
       "9           9.0  201802ニューヨーク     ケビン・アンダーソン  1.0          2      圭       ×   \n",
       "14         14.0  201802ニューヨーク     ケビン・アンダーソン  1.0          4      圭       ×   \n",
       "15         15.0  201802ニューヨーク     ケビン・アンダーソン  1.0          4      圭       ×   \n",
       "18         18.0  201802ニューヨーク     ケビン・アンダーソン  1.0          4      圭       ○   \n",
       "..          ...           ...            ...  ...        ...    ...     ...   \n",
       "475         NaN  201908全米オープン       トゥルンゲリティ  2.0          1      圭       ×   \n",
       "483         NaN  201908全米オープン       トゥルンゲリティ  2.0          3      圭       ○   \n",
       "492         NaN  201908全米オープン       トゥルンゲリティ  2.0          5      圭       ○   \n",
       "493         NaN  201908全米オープン       トゥルンゲリティ  2.0          5      圭       ○   \n",
       "494         NaN  201908全米オープン       トゥルンゲリティ  2.0          5      圭       ○   \n",
       "\n",
       "    FirstSecond Cource  Speed AceDbF ScoreServer ScoreReturner   Side  WonA  \\\n",
       "7             1      w  162.0    NaN          15             0     Ad     0   \n",
       "9             1      c  170.0    NaN          15            30     Ad     0   \n",
       "14            1      b  170.0    NaN           0             0  Deuce     0   \n",
       "15            1      w  167.0    NaN           0            15     Ad     0   \n",
       "18            1      c  178.0    NaN          15            40  Deuce     1   \n",
       "..          ...    ...    ...    ...         ...           ...    ...   ...   \n",
       "475           1      c  165.0    NaN          30             0  Deuce     0   \n",
       "483           1      w  151.0    NaN           0             0  Deuce     1   \n",
       "492           1      c  172.0     Ac           0             0  Deuce     1   \n",
       "493           1      w  172.0    NaN          15             0     Ad     1   \n",
       "494           1      w  157.0    NaN          30             0  Deuce     1   \n",
       "\n",
       "     WonB              filename  \n",
       "7       1  20180214_Newyork.csv  \n",
       "9       1  20180214_Newyork.csv  \n",
       "14      1  20180214_Newyork.csv  \n",
       "15      1  20180214_Newyork.csv  \n",
       "18      0  20180214_Newyork.csv  \n",
       "..    ...                   ...  \n",
       "475     1   20190826_USOpen.csv  \n",
       "483     0   20190826_USOpen.csv  \n",
       "492     0   20190826_USOpen.csv  \n",
       "493     0   20190826_USOpen.csv  \n",
       "494     0   20190826_USOpen.csv  \n",
       "\n",
       "[1672 rows x 17 columns]"
      ]
     },
     "execution_count": 139,
     "metadata": {},
     "output_type": "execute_result"
    }
   ],
   "source": [
    "df_kei_1st"
   ]
  },
  {
   "cell_type": "code",
   "execution_count": 140,
   "metadata": {},
   "outputs": [
    {
     "data": {
      "text/html": [
       "<div>\n",
       "<style scoped>\n",
       "    .dataframe tbody tr th:only-of-type {\n",
       "        vertical-align: middle;\n",
       "    }\n",
       "\n",
       "    .dataframe tbody tr th {\n",
       "        vertical-align: top;\n",
       "    }\n",
       "\n",
       "    .dataframe thead th {\n",
       "        text-align: right;\n",
       "    }\n",
       "</style>\n",
       "<table border=\"1\" class=\"dataframe\">\n",
       "  <thead>\n",
       "    <tr style=\"text-align: right;\">\n",
       "      <th></th>\n",
       "      <th>Unnamed: 0</th>\n",
       "      <th>Tournament</th>\n",
       "      <th>OpponentPlayer</th>\n",
       "      <th>Set</th>\n",
       "      <th>TotalGame</th>\n",
       "      <th>Server</th>\n",
       "      <th>WinLose</th>\n",
       "      <th>FirstSecond</th>\n",
       "      <th>Cource</th>\n",
       "      <th>Speed</th>\n",
       "      <th>AceDbF</th>\n",
       "      <th>ScoreServer</th>\n",
       "      <th>ScoreReturner</th>\n",
       "      <th>Side</th>\n",
       "      <th>WonA</th>\n",
       "      <th>WonB</th>\n",
       "      <th>filename</th>\n",
       "    </tr>\n",
       "  </thead>\n",
       "  <tbody>\n",
       "    <tr>\n",
       "      <td>25</td>\n",
       "      <td>25.0</td>\n",
       "      <td>201802ニューヨーク</td>\n",
       "      <td>ケビン・アンダーソン</td>\n",
       "      <td>1.0</td>\n",
       "      <td>6</td>\n",
       "      <td>圭</td>\n",
       "      <td>○</td>\n",
       "      <td>1</td>\n",
       "      <td>w</td>\n",
       "      <td>149.0</td>\n",
       "      <td>NaN</td>\n",
       "      <td>0</td>\n",
       "      <td>0</td>\n",
       "      <td>Deuce</td>\n",
       "      <td>1</td>\n",
       "      <td>0</td>\n",
       "      <td>20180214_Newyork.csv</td>\n",
       "    </tr>\n",
       "    <tr>\n",
       "      <td>53</td>\n",
       "      <td>53.0</td>\n",
       "      <td>201802ニューヨーク</td>\n",
       "      <td>ケビン・アンダーソン</td>\n",
       "      <td>2.0</td>\n",
       "      <td>3</td>\n",
       "      <td>圭</td>\n",
       "      <td>○</td>\n",
       "      <td>1</td>\n",
       "      <td>w</td>\n",
       "      <td>175.0</td>\n",
       "      <td>NaN</td>\n",
       "      <td>0</td>\n",
       "      <td>0</td>\n",
       "      <td>Deuce</td>\n",
       "      <td>1</td>\n",
       "      <td>0</td>\n",
       "      <td>20180214_Newyork.csv</td>\n",
       "    </tr>\n",
       "    <tr>\n",
       "      <td>57</td>\n",
       "      <td>57.0</td>\n",
       "      <td>201802ニューヨーク</td>\n",
       "      <td>ケビン・アンダーソン</td>\n",
       "      <td>2.0</td>\n",
       "      <td>3</td>\n",
       "      <td>圭</td>\n",
       "      <td>○</td>\n",
       "      <td>1</td>\n",
       "      <td>w</td>\n",
       "      <td>164.0</td>\n",
       "      <td>NaN</td>\n",
       "      <td>40</td>\n",
       "      <td>15</td>\n",
       "      <td>Deuce</td>\n",
       "      <td>1</td>\n",
       "      <td>0</td>\n",
       "      <td>20180214_Newyork.csv</td>\n",
       "    </tr>\n",
       "    <tr>\n",
       "      <td>91</td>\n",
       "      <td>91.0</td>\n",
       "      <td>201802ニューヨーク</td>\n",
       "      <td>ケビン・アンダーソン</td>\n",
       "      <td>2.0</td>\n",
       "      <td>9</td>\n",
       "      <td>圭</td>\n",
       "      <td>×</td>\n",
       "      <td>1</td>\n",
       "      <td>w</td>\n",
       "      <td>175.0</td>\n",
       "      <td>NaN</td>\n",
       "      <td>40</td>\n",
       "      <td>15</td>\n",
       "      <td>Deuce</td>\n",
       "      <td>0</td>\n",
       "      <td>1</td>\n",
       "      <td>20180214_Newyork.csv</td>\n",
       "    </tr>\n",
       "    <tr>\n",
       "      <td>93</td>\n",
       "      <td>93.0</td>\n",
       "      <td>201802ニューヨーク</td>\n",
       "      <td>ケビン・アンダーソン</td>\n",
       "      <td>2.0</td>\n",
       "      <td>9</td>\n",
       "      <td>圭</td>\n",
       "      <td>○</td>\n",
       "      <td>1</td>\n",
       "      <td>w</td>\n",
       "      <td>164.0</td>\n",
       "      <td>NaN</td>\n",
       "      <td>40</td>\n",
       "      <td>40</td>\n",
       "      <td>Deuce</td>\n",
       "      <td>1</td>\n",
       "      <td>0</td>\n",
       "      <td>20180214_Newyork.csv</td>\n",
       "    </tr>\n",
       "    <tr>\n",
       "      <td>...</td>\n",
       "      <td>...</td>\n",
       "      <td>...</td>\n",
       "      <td>...</td>\n",
       "      <td>...</td>\n",
       "      <td>...</td>\n",
       "      <td>...</td>\n",
       "      <td>...</td>\n",
       "      <td>...</td>\n",
       "      <td>...</td>\n",
       "      <td>...</td>\n",
       "      <td>...</td>\n",
       "      <td>...</td>\n",
       "      <td>...</td>\n",
       "      <td>...</td>\n",
       "      <td>...</td>\n",
       "      <td>...</td>\n",
       "      <td>...</td>\n",
       "    </tr>\n",
       "    <tr>\n",
       "      <td>441</td>\n",
       "      <td>NaN</td>\n",
       "      <td>201908全米オープン</td>\n",
       "      <td>トゥルンゲリティ</td>\n",
       "      <td>1.0</td>\n",
       "      <td>2</td>\n",
       "      <td>圭</td>\n",
       "      <td>○</td>\n",
       "      <td>1</td>\n",
       "      <td>w</td>\n",
       "      <td>157.0</td>\n",
       "      <td>NaN</td>\n",
       "      <td>30</td>\n",
       "      <td>0</td>\n",
       "      <td>Deuce</td>\n",
       "      <td>1</td>\n",
       "      <td>0</td>\n",
       "      <td>20190826_USOpen.csv</td>\n",
       "    </tr>\n",
       "    <tr>\n",
       "      <td>451</td>\n",
       "      <td>NaN</td>\n",
       "      <td>201908全米オープン</td>\n",
       "      <td>トゥルンゲリティ</td>\n",
       "      <td>1.0</td>\n",
       "      <td>4</td>\n",
       "      <td>圭</td>\n",
       "      <td>○</td>\n",
       "      <td>1</td>\n",
       "      <td>w</td>\n",
       "      <td>151.0</td>\n",
       "      <td>NaN</td>\n",
       "      <td>0</td>\n",
       "      <td>0</td>\n",
       "      <td>Deuce</td>\n",
       "      <td>1</td>\n",
       "      <td>0</td>\n",
       "      <td>20190826_USOpen.csv</td>\n",
       "    </tr>\n",
       "    <tr>\n",
       "      <td>465</td>\n",
       "      <td>NaN</td>\n",
       "      <td>201908全米オープン</td>\n",
       "      <td>トゥルンゲリティ</td>\n",
       "      <td>1.0</td>\n",
       "      <td>6</td>\n",
       "      <td>圭</td>\n",
       "      <td>○</td>\n",
       "      <td>1</td>\n",
       "      <td>w</td>\n",
       "      <td>141.0</td>\n",
       "      <td>NaN</td>\n",
       "      <td>30</td>\n",
       "      <td>0</td>\n",
       "      <td>Deuce</td>\n",
       "      <td>1</td>\n",
       "      <td>0</td>\n",
       "      <td>20190826_USOpen.csv</td>\n",
       "    </tr>\n",
       "    <tr>\n",
       "      <td>483</td>\n",
       "      <td>NaN</td>\n",
       "      <td>201908全米オープン</td>\n",
       "      <td>トゥルンゲリティ</td>\n",
       "      <td>2.0</td>\n",
       "      <td>3</td>\n",
       "      <td>圭</td>\n",
       "      <td>○</td>\n",
       "      <td>1</td>\n",
       "      <td>w</td>\n",
       "      <td>151.0</td>\n",
       "      <td>NaN</td>\n",
       "      <td>0</td>\n",
       "      <td>0</td>\n",
       "      <td>Deuce</td>\n",
       "      <td>1</td>\n",
       "      <td>0</td>\n",
       "      <td>20190826_USOpen.csv</td>\n",
       "    </tr>\n",
       "    <tr>\n",
       "      <td>494</td>\n",
       "      <td>NaN</td>\n",
       "      <td>201908全米オープン</td>\n",
       "      <td>トゥルンゲリティ</td>\n",
       "      <td>2.0</td>\n",
       "      <td>5</td>\n",
       "      <td>圭</td>\n",
       "      <td>○</td>\n",
       "      <td>1</td>\n",
       "      <td>w</td>\n",
       "      <td>157.0</td>\n",
       "      <td>NaN</td>\n",
       "      <td>30</td>\n",
       "      <td>0</td>\n",
       "      <td>Deuce</td>\n",
       "      <td>1</td>\n",
       "      <td>0</td>\n",
       "      <td>20190826_USOpen.csv</td>\n",
       "    </tr>\n",
       "  </tbody>\n",
       "</table>\n",
       "<p>429 rows × 17 columns</p>\n",
       "</div>"
      ],
      "text/plain": [
       "     Unnamed: 0    Tournament OpponentPlayer  Set  TotalGame Server WinLose  \\\n",
       "25         25.0  201802ニューヨーク     ケビン・アンダーソン  1.0          6      圭       ○   \n",
       "53         53.0  201802ニューヨーク     ケビン・アンダーソン  2.0          3      圭       ○   \n",
       "57         57.0  201802ニューヨーク     ケビン・アンダーソン  2.0          3      圭       ○   \n",
       "91         91.0  201802ニューヨーク     ケビン・アンダーソン  2.0          9      圭       ×   \n",
       "93         93.0  201802ニューヨーク     ケビン・アンダーソン  2.0          9      圭       ○   \n",
       "..          ...           ...            ...  ...        ...    ...     ...   \n",
       "441         NaN  201908全米オープン       トゥルンゲリティ  1.0          2      圭       ○   \n",
       "451         NaN  201908全米オープン       トゥルンゲリティ  1.0          4      圭       ○   \n",
       "465         NaN  201908全米オープン       トゥルンゲリティ  1.0          6      圭       ○   \n",
       "483         NaN  201908全米オープン       トゥルンゲリティ  2.0          3      圭       ○   \n",
       "494         NaN  201908全米オープン       トゥルンゲリティ  2.0          5      圭       ○   \n",
       "\n",
       "    FirstSecond Cource  Speed AceDbF ScoreServer ScoreReturner   Side  WonA  \\\n",
       "25            1      w  149.0    NaN           0             0  Deuce     1   \n",
       "53            1      w  175.0    NaN           0             0  Deuce     1   \n",
       "57            1      w  164.0    NaN          40            15  Deuce     1   \n",
       "91            1      w  175.0    NaN          40            15  Deuce     0   \n",
       "93            1      w  164.0    NaN          40            40  Deuce     1   \n",
       "..          ...    ...    ...    ...         ...           ...    ...   ...   \n",
       "441           1      w  157.0    NaN          30             0  Deuce     1   \n",
       "451           1      w  151.0    NaN           0             0  Deuce     1   \n",
       "465           1      w  141.0    NaN          30             0  Deuce     1   \n",
       "483           1      w  151.0    NaN           0             0  Deuce     1   \n",
       "494           1      w  157.0    NaN          30             0  Deuce     1   \n",
       "\n",
       "     WonB              filename  \n",
       "25      0  20180214_Newyork.csv  \n",
       "53      0  20180214_Newyork.csv  \n",
       "57      0  20180214_Newyork.csv  \n",
       "91      1  20180214_Newyork.csv  \n",
       "93      0  20180214_Newyork.csv  \n",
       "..    ...                   ...  \n",
       "441     0   20190826_USOpen.csv  \n",
       "451     0   20190826_USOpen.csv  \n",
       "465     0   20190826_USOpen.csv  \n",
       "483     0   20190826_USOpen.csv  \n",
       "494     0   20190826_USOpen.csv  \n",
       "\n",
       "[429 rows x 17 columns]"
      ]
     },
     "execution_count": 140,
     "metadata": {},
     "output_type": "execute_result"
    }
   ],
   "source": [
    "df_kei_1st_deuce_w"
   ]
  },
  {
   "cell_type": "code",
   "execution_count": 156,
   "metadata": {},
   "outputs": [
    {
     "name": "stderr",
     "output_type": "stream",
     "text": [
      "C:\\Users\\taku\\Anaconda3\\envs\\datascience\\lib\\site-packages\\ipykernel_launcher.py:2: SettingWithCopyWarning: \n",
      "A value is trying to be set on a copy of a slice from a DataFrame.\n",
      "Try using .loc[row_indexer,col_indexer] = value instead\n",
      "\n",
      "See the caveats in the documentation: http://pandas.pydata.org/pandas-docs/stable/user_guide/indexing.html#returning-a-view-versus-a-copy\n",
      "  \n"
     ]
    },
    {
     "ename": "ValueError",
     "evalue": "Colormap Tournament is not recognized. Possible values are: Accent, Accent_r, Blues, Blues_r, BrBG, BrBG_r, BuGn, BuGn_r, BuPu, BuPu_r, CMRmap, CMRmap_r, Dark2, Dark2_r, GnBu, GnBu_r, Greens, Greens_r, Greys, Greys_r, OrRd, OrRd_r, Oranges, Oranges_r, PRGn, PRGn_r, Paired, Paired_r, Pastel1, Pastel1_r, Pastel2, Pastel2_r, PiYG, PiYG_r, PuBu, PuBuGn, PuBuGn_r, PuBu_r, PuOr, PuOr_r, PuRd, PuRd_r, Purples, Purples_r, RdBu, RdBu_r, RdGy, RdGy_r, RdPu, RdPu_r, RdYlBu, RdYlBu_r, RdYlGn, RdYlGn_r, Reds, Reds_r, Set1, Set1_r, Set2, Set2_r, Set3, Set3_r, Spectral, Spectral_r, Wistia, Wistia_r, YlGn, YlGnBu, YlGnBu_r, YlGn_r, YlOrBr, YlOrBr_r, YlOrRd, YlOrRd_r, afmhot, afmhot_r, autumn, autumn_r, binary, binary_r, bone, bone_r, brg, brg_r, bwr, bwr_r, cividis, cividis_r, cool, cool_r, coolwarm, coolwarm_r, copper, copper_r, cubehelix, cubehelix_r, flag, flag_r, gist_earth, gist_earth_r, gist_gray, gist_gray_r, gist_heat, gist_heat_r, gist_ncar, gist_ncar_r, gist_rainbow, gist_rainbow_r, gist_stern, gist_stern_r, gist_yarg, gist_yarg_r, gnuplot, gnuplot2, gnuplot2_r, gnuplot_r, gray, gray_r, hot, hot_r, hsv, hsv_r, inferno, inferno_r, jet, jet_r, magma, magma_r, nipy_spectral, nipy_spectral_r, ocean, ocean_r, pink, pink_r, plasma, plasma_r, prism, prism_r, rainbow, rainbow_r, seismic, seismic_r, spring, spring_r, summer, summer_r, tab10, tab10_r, tab20, tab20_r, tab20b, tab20b_r, tab20c, tab20c_r, terrain, terrain_r, twilight, twilight_r, twilight_shifted, twilight_shifted_r, viridis, viridis_r, winter, winter_r",
     "output_type": "error",
     "traceback": [
      "\u001b[1;31m---------------------------------------------------------------------------\u001b[0m",
      "\u001b[1;31mValueError\u001b[0m                                Traceback (most recent call last)",
      "\u001b[1;32m<ipython-input-156-6e017ccb6d92>\u001b[0m in \u001b[0;36m<module>\u001b[1;34m\u001b[0m\n\u001b[0;32m      1\u001b[0m \u001b[0mdf_kei_1st_deuce_w\u001b[0m\u001b[1;33m.\u001b[0m\u001b[0mreset_index\u001b[0m\u001b[1;33m(\u001b[0m\u001b[1;33m)\u001b[0m\u001b[1;33m\u001b[0m\u001b[1;33m\u001b[0m\u001b[0m\n\u001b[0;32m      2\u001b[0m \u001b[0mdf_kei_1st_deuce_w\u001b[0m\u001b[1;33m[\u001b[0m\u001b[1;34m'index'\u001b[0m\u001b[1;33m]\u001b[0m\u001b[1;33m=\u001b[0m\u001b[0mdf_kei_1st_deuce_w\u001b[0m\u001b[1;33m.\u001b[0m\u001b[0mindex\u001b[0m\u001b[1;33m\u001b[0m\u001b[1;33m\u001b[0m\u001b[0m\n\u001b[1;32m----> 3\u001b[1;33m \u001b[0mdf_kei_1st_deuce_w\u001b[0m\u001b[1;33m.\u001b[0m\u001b[0mplot\u001b[0m\u001b[1;33m(\u001b[0m\u001b[0mkind\u001b[0m\u001b[1;33m=\u001b[0m\u001b[1;34m'scatter'\u001b[0m\u001b[1;33m,\u001b[0m\u001b[0mx\u001b[0m\u001b[1;33m=\u001b[0m\u001b[1;34m'index'\u001b[0m\u001b[1;33m,\u001b[0m\u001b[0my\u001b[0m\u001b[1;33m=\u001b[0m\u001b[1;34m'Speed'\u001b[0m\u001b[1;33m,\u001b[0m\u001b[0mcolormap\u001b[0m\u001b[1;33m=\u001b[0m\u001b[1;34m'Tournament'\u001b[0m\u001b[1;33m)\u001b[0m\u001b[1;33m\u001b[0m\u001b[1;33m\u001b[0m\u001b[0m\n\u001b[0m",
      "\u001b[1;32m~\\Anaconda3\\envs\\datascience\\lib\\site-packages\\pandas\\plotting\\_core.py\u001b[0m in \u001b[0;36m__call__\u001b[1;34m(self, *args, **kwargs)\u001b[0m\n\u001b[0;32m    736\u001b[0m         \u001b[1;32mif\u001b[0m \u001b[0mkind\u001b[0m \u001b[1;32min\u001b[0m \u001b[0mself\u001b[0m\u001b[1;33m.\u001b[0m\u001b[0m_dataframe_kinds\u001b[0m\u001b[1;33m:\u001b[0m\u001b[1;33m\u001b[0m\u001b[1;33m\u001b[0m\u001b[0m\n\u001b[0;32m    737\u001b[0m             \u001b[1;32mif\u001b[0m \u001b[0misinstance\u001b[0m\u001b[1;33m(\u001b[0m\u001b[0mdata\u001b[0m\u001b[1;33m,\u001b[0m \u001b[0mABCDataFrame\u001b[0m\u001b[1;33m)\u001b[0m\u001b[1;33m:\u001b[0m\u001b[1;33m\u001b[0m\u001b[1;33m\u001b[0m\u001b[0m\n\u001b[1;32m--> 738\u001b[1;33m                 \u001b[1;32mreturn\u001b[0m \u001b[0mplot_backend\u001b[0m\u001b[1;33m.\u001b[0m\u001b[0mplot\u001b[0m\u001b[1;33m(\u001b[0m\u001b[0mdata\u001b[0m\u001b[1;33m,\u001b[0m \u001b[0mx\u001b[0m\u001b[1;33m=\u001b[0m\u001b[0mx\u001b[0m\u001b[1;33m,\u001b[0m \u001b[0my\u001b[0m\u001b[1;33m=\u001b[0m\u001b[0my\u001b[0m\u001b[1;33m,\u001b[0m \u001b[0mkind\u001b[0m\u001b[1;33m=\u001b[0m\u001b[0mkind\u001b[0m\u001b[1;33m,\u001b[0m \u001b[1;33m**\u001b[0m\u001b[0mkwargs\u001b[0m\u001b[1;33m)\u001b[0m\u001b[1;33m\u001b[0m\u001b[1;33m\u001b[0m\u001b[0m\n\u001b[0m\u001b[0;32m    739\u001b[0m             \u001b[1;32melse\u001b[0m\u001b[1;33m:\u001b[0m\u001b[1;33m\u001b[0m\u001b[1;33m\u001b[0m\u001b[0m\n\u001b[0;32m    740\u001b[0m                 raise ValueError(\n",
      "\u001b[1;32m~\\Anaconda3\\envs\\datascience\\lib\\site-packages\\pandas\\plotting\\_matplotlib\\__init__.py\u001b[0m in \u001b[0;36mplot\u001b[1;34m(data, kind, **kwargs)\u001b[0m\n\u001b[0;32m     60\u001b[0m             \u001b[0mkwargs\u001b[0m\u001b[1;33m[\u001b[0m\u001b[1;34m\"ax\"\u001b[0m\u001b[1;33m]\u001b[0m \u001b[1;33m=\u001b[0m \u001b[0mgetattr\u001b[0m\u001b[1;33m(\u001b[0m\u001b[0max\u001b[0m\u001b[1;33m,\u001b[0m \u001b[1;34m\"left_ax\"\u001b[0m\u001b[1;33m,\u001b[0m \u001b[0max\u001b[0m\u001b[1;33m)\u001b[0m\u001b[1;33m\u001b[0m\u001b[1;33m\u001b[0m\u001b[0m\n\u001b[0;32m     61\u001b[0m     \u001b[0mplot_obj\u001b[0m \u001b[1;33m=\u001b[0m \u001b[0mPLOT_CLASSES\u001b[0m\u001b[1;33m[\u001b[0m\u001b[0mkind\u001b[0m\u001b[1;33m]\u001b[0m\u001b[1;33m(\u001b[0m\u001b[0mdata\u001b[0m\u001b[1;33m,\u001b[0m \u001b[1;33m**\u001b[0m\u001b[0mkwargs\u001b[0m\u001b[1;33m)\u001b[0m\u001b[1;33m\u001b[0m\u001b[1;33m\u001b[0m\u001b[0m\n\u001b[1;32m---> 62\u001b[1;33m     \u001b[0mplot_obj\u001b[0m\u001b[1;33m.\u001b[0m\u001b[0mgenerate\u001b[0m\u001b[1;33m(\u001b[0m\u001b[1;33m)\u001b[0m\u001b[1;33m\u001b[0m\u001b[1;33m\u001b[0m\u001b[0m\n\u001b[0m\u001b[0;32m     63\u001b[0m     \u001b[0mplot_obj\u001b[0m\u001b[1;33m.\u001b[0m\u001b[0mdraw\u001b[0m\u001b[1;33m(\u001b[0m\u001b[1;33m)\u001b[0m\u001b[1;33m\u001b[0m\u001b[1;33m\u001b[0m\u001b[0m\n\u001b[0;32m     64\u001b[0m     \u001b[1;32mreturn\u001b[0m \u001b[0mplot_obj\u001b[0m\u001b[1;33m.\u001b[0m\u001b[0mresult\u001b[0m\u001b[1;33m\u001b[0m\u001b[1;33m\u001b[0m\u001b[0m\n",
      "\u001b[1;32m~\\Anaconda3\\envs\\datascience\\lib\\site-packages\\pandas\\plotting\\_matplotlib\\core.py\u001b[0m in \u001b[0;36mgenerate\u001b[1;34m(self)\u001b[0m\n\u001b[0;32m    279\u001b[0m         \u001b[0mself\u001b[0m\u001b[1;33m.\u001b[0m\u001b[0m_compute_plot_data\u001b[0m\u001b[1;33m(\u001b[0m\u001b[1;33m)\u001b[0m\u001b[1;33m\u001b[0m\u001b[1;33m\u001b[0m\u001b[0m\n\u001b[0;32m    280\u001b[0m         \u001b[0mself\u001b[0m\u001b[1;33m.\u001b[0m\u001b[0m_setup_subplots\u001b[0m\u001b[1;33m(\u001b[0m\u001b[1;33m)\u001b[0m\u001b[1;33m\u001b[0m\u001b[1;33m\u001b[0m\u001b[0m\n\u001b[1;32m--> 281\u001b[1;33m         \u001b[0mself\u001b[0m\u001b[1;33m.\u001b[0m\u001b[0m_make_plot\u001b[0m\u001b[1;33m(\u001b[0m\u001b[1;33m)\u001b[0m\u001b[1;33m\u001b[0m\u001b[1;33m\u001b[0m\u001b[0m\n\u001b[0m\u001b[0;32m    282\u001b[0m         \u001b[0mself\u001b[0m\u001b[1;33m.\u001b[0m\u001b[0m_add_table\u001b[0m\u001b[1;33m(\u001b[0m\u001b[1;33m)\u001b[0m\u001b[1;33m\u001b[0m\u001b[1;33m\u001b[0m\u001b[0m\n\u001b[0;32m    283\u001b[0m         \u001b[0mself\u001b[0m\u001b[1;33m.\u001b[0m\u001b[0m_make_legend\u001b[0m\u001b[1;33m(\u001b[0m\u001b[1;33m)\u001b[0m\u001b[1;33m\u001b[0m\u001b[1;33m\u001b[0m\u001b[0m\n",
      "\u001b[1;32m~\\Anaconda3\\envs\\datascience\\lib\\site-packages\\pandas\\plotting\\_matplotlib\\core.py\u001b[0m in \u001b[0;36m_make_plot\u001b[1;34m(self)\u001b[0m\n\u001b[0;32m    944\u001b[0m         \u001b[1;31m# pandas uses colormap, matplotlib uses cmap.\u001b[0m\u001b[1;33m\u001b[0m\u001b[1;33m\u001b[0m\u001b[1;33m\u001b[0m\u001b[0m\n\u001b[0;32m    945\u001b[0m         \u001b[0mcmap\u001b[0m \u001b[1;33m=\u001b[0m \u001b[0mself\u001b[0m\u001b[1;33m.\u001b[0m\u001b[0mcolormap\u001b[0m \u001b[1;32mor\u001b[0m \u001b[1;34m\"Greys\"\u001b[0m\u001b[1;33m\u001b[0m\u001b[1;33m\u001b[0m\u001b[0m\n\u001b[1;32m--> 946\u001b[1;33m         \u001b[0mcmap\u001b[0m \u001b[1;33m=\u001b[0m \u001b[0mself\u001b[0m\u001b[1;33m.\u001b[0m\u001b[0mplt\u001b[0m\u001b[1;33m.\u001b[0m\u001b[0mcm\u001b[0m\u001b[1;33m.\u001b[0m\u001b[0mget_cmap\u001b[0m\u001b[1;33m(\u001b[0m\u001b[0mcmap\u001b[0m\u001b[1;33m)\u001b[0m\u001b[1;33m\u001b[0m\u001b[1;33m\u001b[0m\u001b[0m\n\u001b[0m\u001b[0;32m    947\u001b[0m         \u001b[0mcolor\u001b[0m \u001b[1;33m=\u001b[0m \u001b[0mself\u001b[0m\u001b[1;33m.\u001b[0m\u001b[0mkwds\u001b[0m\u001b[1;33m.\u001b[0m\u001b[0mpop\u001b[0m\u001b[1;33m(\u001b[0m\u001b[1;34m\"color\"\u001b[0m\u001b[1;33m,\u001b[0m \u001b[1;32mNone\u001b[0m\u001b[1;33m)\u001b[0m\u001b[1;33m\u001b[0m\u001b[1;33m\u001b[0m\u001b[0m\n\u001b[0;32m    948\u001b[0m         \u001b[1;32mif\u001b[0m \u001b[0mc\u001b[0m \u001b[1;32mis\u001b[0m \u001b[1;32mnot\u001b[0m \u001b[1;32mNone\u001b[0m \u001b[1;32mand\u001b[0m \u001b[0mcolor\u001b[0m \u001b[1;32mis\u001b[0m \u001b[1;32mnot\u001b[0m \u001b[1;32mNone\u001b[0m\u001b[1;33m:\u001b[0m\u001b[1;33m\u001b[0m\u001b[1;33m\u001b[0m\u001b[0m\n",
      "\u001b[1;32m~\\Anaconda3\\envs\\datascience\\lib\\site-packages\\matplotlib\\cm.py\u001b[0m in \u001b[0;36mget_cmap\u001b[1;34m(name, lut)\u001b[0m\n\u001b[0;32m    181\u001b[0m         raise ValueError(\n\u001b[0;32m    182\u001b[0m             \u001b[1;34m\"Colormap %s is not recognized. Possible values are: %s\"\u001b[0m\u001b[1;33m\u001b[0m\u001b[1;33m\u001b[0m\u001b[0m\n\u001b[1;32m--> 183\u001b[1;33m             % (name, ', '.join(sorted(cmap_d))))\n\u001b[0m\u001b[0;32m    184\u001b[0m \u001b[1;33m\u001b[0m\u001b[0m\n\u001b[0;32m    185\u001b[0m \u001b[1;33m\u001b[0m\u001b[0m\n",
      "\u001b[1;31mValueError\u001b[0m: Colormap Tournament is not recognized. Possible values are: Accent, Accent_r, Blues, Blues_r, BrBG, BrBG_r, BuGn, BuGn_r, BuPu, BuPu_r, CMRmap, CMRmap_r, Dark2, Dark2_r, GnBu, GnBu_r, Greens, Greens_r, Greys, Greys_r, OrRd, OrRd_r, Oranges, Oranges_r, PRGn, PRGn_r, Paired, Paired_r, Pastel1, Pastel1_r, Pastel2, Pastel2_r, PiYG, PiYG_r, PuBu, PuBuGn, PuBuGn_r, PuBu_r, PuOr, PuOr_r, PuRd, PuRd_r, Purples, Purples_r, RdBu, RdBu_r, RdGy, RdGy_r, RdPu, RdPu_r, RdYlBu, RdYlBu_r, RdYlGn, RdYlGn_r, Reds, Reds_r, Set1, Set1_r, Set2, Set2_r, Set3, Set3_r, Spectral, Spectral_r, Wistia, Wistia_r, YlGn, YlGnBu, YlGnBu_r, YlGn_r, YlOrBr, YlOrBr_r, YlOrRd, YlOrRd_r, afmhot, afmhot_r, autumn, autumn_r, binary, binary_r, bone, bone_r, brg, brg_r, bwr, bwr_r, cividis, cividis_r, cool, cool_r, coolwarm, coolwarm_r, copper, copper_r, cubehelix, cubehelix_r, flag, flag_r, gist_earth, gist_earth_r, gist_gray, gist_gray_r, gist_heat, gist_heat_r, gist_ncar, gist_ncar_r, gist_rainbow, gist_rainbow_r, gist_stern, gist_stern_r, gist_yarg, gist_yarg_r, gnuplot, gnuplot2, gnuplot2_r, gnuplot_r, gray, gray_r, hot, hot_r, hsv, hsv_r, inferno, inferno_r, jet, jet_r, magma, magma_r, nipy_spectral, nipy_spectral_r, ocean, ocean_r, pink, pink_r, plasma, plasma_r, prism, prism_r, rainbow, rainbow_r, seismic, seismic_r, spring, spring_r, summer, summer_r, tab10, tab10_r, tab20, tab20_r, tab20b, tab20b_r, tab20c, tab20c_r, terrain, terrain_r, twilight, twilight_r, twilight_shifted, twilight_shifted_r, viridis, viridis_r, winter, winter_r"
     ]
    },
    {
     "data": {
      "image/png": "[encoded data removed]",
      "text/plain": [
       "<Figure size 432x288 with 1 Axes>"
      ]
     },
     "metadata": {
      "needs_background": "light"
     },
     "output_type": "display_data"
    }
   ],
   "source": [
    "df_kei_1st_deuce_w.reset_index()\n",
    "df_kei_1st_deuce_w['index']=df_kei_1st_deuce_w.index\n",
    "df_kei_1st_deuce_w.plot(kind='scatter',x='index',y='Speed',colormap='Tournament')"
   ]
  },
  {
   "cell_type": "code",
   "execution_count": 149,
   "metadata": {},
   "outputs": [
    {
     "ename": "KeyError",
     "evalue": "'index'",
     "output_type": "error",
     "traceback": [
      "\u001b[1;31m---------------------------------------------------------------------------\u001b[0m",
      "\u001b[1;31mKeyError\u001b[0m                                  Traceback (most recent call last)",
      "\u001b[1;32m~\\Anaconda3\\envs\\datascience\\lib\\site-packages\\pandas\\core\\indexes\\base.py\u001b[0m in \u001b[0;36mget_loc\u001b[1;34m(self, key, method, tolerance)\u001b[0m\n\u001b[0;32m   2896\u001b[0m             \u001b[1;32mtry\u001b[0m\u001b[1;33m:\u001b[0m\u001b[1;33m\u001b[0m\u001b[1;33m\u001b[0m\u001b[0m\n\u001b[1;32m-> 2897\u001b[1;33m                 \u001b[1;32mreturn\u001b[0m \u001b[0mself\u001b[0m\u001b[1;33m.\u001b[0m\u001b[0m_engine\u001b[0m\u001b[1;33m.\u001b[0m\u001b[0mget_loc\u001b[0m\u001b[1;33m(\u001b[0m\u001b[0mkey\u001b[0m\u001b[1;33m)\u001b[0m\u001b[1;33m\u001b[0m\u001b[1;33m\u001b[0m\u001b[0m\n\u001b[0m\u001b[0;32m   2898\u001b[0m             \u001b[1;32mexcept\u001b[0m \u001b[0mKeyError\u001b[0m\u001b[1;33m:\u001b[0m\u001b[1;33m\u001b[0m\u001b[1;33m\u001b[0m\u001b[0m\n",
      "\u001b[1;32mpandas\\_libs\\index.pyx\u001b[0m in \u001b[0;36mpandas._libs.index.IndexEngine.get_loc\u001b[1;34m()\u001b[0m\n",
      "\u001b[1;32mpandas\\_libs\\index.pyx\u001b[0m in \u001b[0;36mpandas._libs.index.IndexEngine.get_loc\u001b[1;34m()\u001b[0m\n",
      "\u001b[1;32mpandas\\_libs\\hashtable_class_helper.pxi\u001b[0m in \u001b[0;36mpandas._libs.hashtable.PyObjectHashTable.get_item\u001b[1;34m()\u001b[0m\n",
      "\u001b[1;32mpandas\\_libs\\hashtable_class_helper.pxi\u001b[0m in \u001b[0;36mpandas._libs.hashtable.PyObjectHashTable.get_item\u001b[1;34m()\u001b[0m\n",
      "\u001b[1;31mKeyError\u001b[0m: 'index'",
      "\nDuring handling of the above exception, another exception occurred:\n",
      "\u001b[1;31mKeyError\u001b[0m                                  Traceback (most recent call last)",
      "\u001b[1;32m<ipython-input-149-a3923d1b9c1b>\u001b[0m in \u001b[0;36m<module>\u001b[1;34m\u001b[0m\n\u001b[1;32m----> 1\u001b[1;33m \u001b[0mdf_kei_1st_deuce_w\u001b[0m\u001b[1;33m[\u001b[0m\u001b[1;34m'index'\u001b[0m\u001b[1;33m]\u001b[0m\u001b[1;33m\u001b[0m\u001b[1;33m\u001b[0m\u001b[0m\n\u001b[0m",
      "\u001b[1;32m~\\Anaconda3\\envs\\datascience\\lib\\site-packages\\pandas\\core\\frame.py\u001b[0m in \u001b[0;36m__getitem__\u001b[1;34m(self, key)\u001b[0m\n\u001b[0;32m   2978\u001b[0m             \u001b[1;32mif\u001b[0m \u001b[0mself\u001b[0m\u001b[1;33m.\u001b[0m\u001b[0mcolumns\u001b[0m\u001b[1;33m.\u001b[0m\u001b[0mnlevels\u001b[0m \u001b[1;33m>\u001b[0m \u001b[1;36m1\u001b[0m\u001b[1;33m:\u001b[0m\u001b[1;33m\u001b[0m\u001b[1;33m\u001b[0m\u001b[0m\n\u001b[0;32m   2979\u001b[0m                 \u001b[1;32mreturn\u001b[0m \u001b[0mself\u001b[0m\u001b[1;33m.\u001b[0m\u001b[0m_getitem_multilevel\u001b[0m\u001b[1;33m(\u001b[0m\u001b[0mkey\u001b[0m\u001b[1;33m)\u001b[0m\u001b[1;33m\u001b[0m\u001b[1;33m\u001b[0m\u001b[0m\n\u001b[1;32m-> 2980\u001b[1;33m             \u001b[0mindexer\u001b[0m \u001b[1;33m=\u001b[0m \u001b[0mself\u001b[0m\u001b[1;33m.\u001b[0m\u001b[0mcolumns\u001b[0m\u001b[1;33m.\u001b[0m\u001b[0mget_loc\u001b[0m\u001b[1;33m(\u001b[0m\u001b[0mkey\u001b[0m\u001b[1;33m)\u001b[0m\u001b[1;33m\u001b[0m\u001b[1;33m\u001b[0m\u001b[0m\n\u001b[0m\u001b[0;32m   2981\u001b[0m             \u001b[1;32mif\u001b[0m \u001b[0mis_integer\u001b[0m\u001b[1;33m(\u001b[0m\u001b[0mindexer\u001b[0m\u001b[1;33m)\u001b[0m\u001b[1;33m:\u001b[0m\u001b[1;33m\u001b[0m\u001b[1;33m\u001b[0m\u001b[0m\n\u001b[0;32m   2982\u001b[0m                 \u001b[0mindexer\u001b[0m \u001b[1;33m=\u001b[0m \u001b[1;33m[\u001b[0m\u001b[0mindexer\u001b[0m\u001b[1;33m]\u001b[0m\u001b[1;33m\u001b[0m\u001b[1;33m\u001b[0m\u001b[0m\n",
      "\u001b[1;32m~\\Anaconda3\\envs\\datascience\\lib\\site-packages\\pandas\\core\\indexes\\base.py\u001b[0m in \u001b[0;36mget_loc\u001b[1;34m(self, key, method, tolerance)\u001b[0m\n\u001b[0;32m   2897\u001b[0m                 \u001b[1;32mreturn\u001b[0m \u001b[0mself\u001b[0m\u001b[1;33m.\u001b[0m\u001b[0m_engine\u001b[0m\u001b[1;33m.\u001b[0m\u001b[0mget_loc\u001b[0m\u001b[1;33m(\u001b[0m\u001b[0mkey\u001b[0m\u001b[1;33m)\u001b[0m\u001b[1;33m\u001b[0m\u001b[1;33m\u001b[0m\u001b[0m\n\u001b[0;32m   2898\u001b[0m             \u001b[1;32mexcept\u001b[0m \u001b[0mKeyError\u001b[0m\u001b[1;33m:\u001b[0m\u001b[1;33m\u001b[0m\u001b[1;33m\u001b[0m\u001b[0m\n\u001b[1;32m-> 2899\u001b[1;33m                 \u001b[1;32mreturn\u001b[0m \u001b[0mself\u001b[0m\u001b[1;33m.\u001b[0m\u001b[0m_engine\u001b[0m\u001b[1;33m.\u001b[0m\u001b[0mget_loc\u001b[0m\u001b[1;33m(\u001b[0m\u001b[0mself\u001b[0m\u001b[1;33m.\u001b[0m\u001b[0m_maybe_cast_indexer\u001b[0m\u001b[1;33m(\u001b[0m\u001b[0mkey\u001b[0m\u001b[1;33m)\u001b[0m\u001b[1;33m)\u001b[0m\u001b[1;33m\u001b[0m\u001b[1;33m\u001b[0m\u001b[0m\n\u001b[0m\u001b[0;32m   2900\u001b[0m         \u001b[0mindexer\u001b[0m \u001b[1;33m=\u001b[0m \u001b[0mself\u001b[0m\u001b[1;33m.\u001b[0m\u001b[0mget_indexer\u001b[0m\u001b[1;33m(\u001b[0m\u001b[1;33m[\u001b[0m\u001b[0mkey\u001b[0m\u001b[1;33m]\u001b[0m\u001b[1;33m,\u001b[0m \u001b[0mmethod\u001b[0m\u001b[1;33m=\u001b[0m\u001b[0mmethod\u001b[0m\u001b[1;33m,\u001b[0m \u001b[0mtolerance\u001b[0m\u001b[1;33m=\u001b[0m\u001b[0mtolerance\u001b[0m\u001b[1;33m)\u001b[0m\u001b[1;33m\u001b[0m\u001b[1;33m\u001b[0m\u001b[0m\n\u001b[0;32m   2901\u001b[0m         \u001b[1;32mif\u001b[0m \u001b[0mindexer\u001b[0m\u001b[1;33m.\u001b[0m\u001b[0mndim\u001b[0m \u001b[1;33m>\u001b[0m \u001b[1;36m1\u001b[0m \u001b[1;32mor\u001b[0m \u001b[0mindexer\u001b[0m\u001b[1;33m.\u001b[0m\u001b[0msize\u001b[0m \u001b[1;33m>\u001b[0m \u001b[1;36m1\u001b[0m\u001b[1;33m:\u001b[0m\u001b[1;33m\u001b[0m\u001b[1;33m\u001b[0m\u001b[0m\n",
      "\u001b[1;32mpandas\\_libs\\index.pyx\u001b[0m in \u001b[0;36mpandas._libs.index.IndexEngine.get_loc\u001b[1;34m()\u001b[0m\n",
      "\u001b[1;32mpandas\\_libs\\index.pyx\u001b[0m in \u001b[0;36mpandas._libs.index.IndexEngine.get_loc\u001b[1;34m()\u001b[0m\n",
      "\u001b[1;32mpandas\\_libs\\hashtable_class_helper.pxi\u001b[0m in \u001b[0;36mpandas._libs.hashtable.PyObjectHashTable.get_item\u001b[1;34m()\u001b[0m\n",
      "\u001b[1;32mpandas\\_libs\\hashtable_class_helper.pxi\u001b[0m in \u001b[0;36mpandas._libs.hashtable.PyObjectHashTable.get_item\u001b[1;34m()\u001b[0m\n",
      "\u001b[1;31mKeyError\u001b[0m: 'index'"
     ]
    }
   ],
   "source": [
    "df_kei_1st_deuce_w['index']"
   ]
  },
  {
   "cell_type": "code",
   "execution_count": 128,
   "metadata": {},
   "outputs": [
    {
     "data": {
      "text/plain": [
       "<matplotlib.collections.PathCollection at 0x2185d7c8208>"
      ]
     },
     "execution_count": 128,
     "metadata": {},
     "output_type": "execute_result"
    },
    {
     "data": {
      "image/png": "[encoded data removed]",
      "text/plain": [
       "<Figure size 432x288 with 1 Axes>"
      ]
     },
     "metadata": {
      "needs_background": "light"
     },
     "output_type": "display_data"
    }
   ],
   "source": [
    "x=[]\n",
    "y=df_kei_1st_deuce_w['Speed'].values\n",
    "for i in range(len(y)):\n",
    "    x.append(i)\n",
    "plt.scatter(x,y,)\n"
   ]
  },
  {
   "cell_type": "code",
   "execution_count": 114,
   "metadata": {},
   "outputs": [
    {
     "data": {
      "text/plain": [
       "<matplotlib.collections.PathCollection at 0x2185d635548>"
      ]
     },
     "execution_count": 114,
     "metadata": {},
     "output_type": "execute_result"
    },
    {
     "data": {
      "image/png": "[encoded data removed]",
      "text/plain": [
       "<Figure size 432x288 with 1 Axes>"
      ]
     },
     "metadata": {
      "needs_background": "light"
     },
     "output_type": "display_data"
    }
   ],
   "source": [
    "x=[]\n",
    "y=df_kei_1st_deuce_c['Speed'].values\n",
    "for i in range(len(y)):\n",
    "    x.append(i)\n",
    "plt.scatter(x,y)"
   ]
  },
  {
   "cell_type": "code",
   "execution_count": 115,
   "metadata": {},
   "outputs": [
    {
     "data": {
      "text/plain": [
       "<matplotlib.collections.PathCollection at 0x2185c53cd08>"
      ]
     },
     "execution_count": 115,
     "metadata": {},
     "output_type": "execute_result"
    },
    {
     "data": {
      "image/png": "[encoded data removed]",
      "text/plain": [
       "<Figure size 432x288 with 1 Axes>"
      ]
     },
     "metadata": {
      "needs_background": "light"
     },
     "output_type": "display_data"
    }
   ],
   "source": [
    "x=[]\n",
    "y=df_kei_1st_ad_w['Speed'].values\n",
    "for i in range(len(y)):\n",
    "    x.append(i)\n",
    "plt.scatter(x,y)"
   ]
  },
  {
   "cell_type": "code",
   "execution_count": 157,
   "metadata": {},
   "outputs": [
    {
     "data": {
      "text/plain": [
       "<matplotlib.collections.PathCollection at 0x2185dcda408>"
      ]
     },
     "execution_count": 157,
     "metadata": {},
     "output_type": "execute_result"
    },
    {
     "data": {
      "image/png": "[encoded data removed]",
      "text/plain": [
       "<Figure size 432x288 with 1 Axes>"
      ]
     },
     "metadata": {
      "needs_background": "light"
     },
     "output_type": "display_data"
    }
   ],
   "source": [
    "x=[]\n",
    "y=df_kei_1st_ad_c['Speed'].values\n",
    "for i in range(len(y)):\n",
    "    x.append(i)\n",
    "plt.scatter(x,y)"
   ]
  },
  {
   "cell_type": "code",
   "execution_count": 93,
   "metadata": {},
   "outputs": [
    {
     "data": {
      "text/plain": [
       "<matplotlib.axes._subplots.AxesSubplot at 0x2185af0e308>"
      ]
     },
     "execution_count": 93,
     "metadata": {},
     "output_type": "execute_result"
    },
    {
     "data": {
      "image/png": "[encoded data removed]",
      "text/plain": [
       "<Figure size 432x288 with 1 Axes>"
      ]
     },
     "metadata": {
      "needs_background": "light"
     },
     "output_type": "display_data"
    }
   ],
   "source": [
    "df_kei_1st_ad_w['Speed'].plot()"
   ]
  },
  {
   "cell_type": "code",
   "execution_count": 94,
   "metadata": {},
   "outputs": [
    {
     "data": {
      "text/html": [
       "<div>\n",
       "<style scoped>\n",
       "    .dataframe tbody tr th:only-of-type {\n",
       "        vertical-align: middle;\n",
       "    }\n",
       "\n",
       "    .dataframe tbody tr th {\n",
       "        vertical-align: top;\n",
       "    }\n",
       "\n",
       "    .dataframe thead th {\n",
       "        text-align: right;\n",
       "    }\n",
       "</style>\n",
       "<table border=\"1\" class=\"dataframe\">\n",
       "  <thead>\n",
       "    <tr style=\"text-align: right;\">\n",
       "      <th></th>\n",
       "      <th>Unnamed: 0</th>\n",
       "      <th>index</th>\n",
       "      <th>Tournament</th>\n",
       "      <th>OpponentPlayer</th>\n",
       "      <th>Set</th>\n",
       "      <th>TotalGame</th>\n",
       "      <th>Server</th>\n",
       "      <th>WinLose</th>\n",
       "      <th>FirstSecond</th>\n",
       "      <th>Cource</th>\n",
       "      <th>Speed</th>\n",
       "      <th>AceDbF</th>\n",
       "      <th>ScoreServer</th>\n",
       "      <th>ScoreReturner</th>\n",
       "      <th>Side</th>\n",
       "      <th>WonA</th>\n",
       "      <th>WonB</th>\n",
       "      <th>filename</th>\n",
       "    </tr>\n",
       "  </thead>\n",
       "  <tbody>\n",
       "    <tr>\n",
       "      <td>14</td>\n",
       "      <td>14.0</td>\n",
       "      <td>44</td>\n",
       "      <td>201802ニューヨーク</td>\n",
       "      <td>ケビン・アンダーソン</td>\n",
       "      <td>1.0</td>\n",
       "      <td>4</td>\n",
       "      <td>圭</td>\n",
       "      <td>×</td>\n",
       "      <td>1</td>\n",
       "      <td>b</td>\n",
       "      <td>170.0</td>\n",
       "      <td>NaN</td>\n",
       "      <td>0</td>\n",
       "      <td>0</td>\n",
       "      <td>Deuce</td>\n",
       "      <td>0</td>\n",
       "      <td>1</td>\n",
       "      <td>20180214_Newyork.csv</td>\n",
       "    </tr>\n",
       "    <tr>\n",
       "      <td>18</td>\n",
       "      <td>18.0</td>\n",
       "      <td>48</td>\n",
       "      <td>201802ニューヨーク</td>\n",
       "      <td>ケビン・アンダーソン</td>\n",
       "      <td>1.0</td>\n",
       "      <td>4</td>\n",
       "      <td>圭</td>\n",
       "      <td>○</td>\n",
       "      <td>1</td>\n",
       "      <td>c</td>\n",
       "      <td>178.0</td>\n",
       "      <td>NaN</td>\n",
       "      <td>15</td>\n",
       "      <td>40</td>\n",
       "      <td>Deuce</td>\n",
       "      <td>1</td>\n",
       "      <td>0</td>\n",
       "      <td>20180214_Newyork.csv</td>\n",
       "    </tr>\n",
       "    <tr>\n",
       "      <td>25</td>\n",
       "      <td>25.0</td>\n",
       "      <td>100</td>\n",
       "      <td>201802ニューヨーク</td>\n",
       "      <td>ケビン・アンダーソン</td>\n",
       "      <td>1.0</td>\n",
       "      <td>6</td>\n",
       "      <td>圭</td>\n",
       "      <td>○</td>\n",
       "      <td>1</td>\n",
       "      <td>w</td>\n",
       "      <td>149.0</td>\n",
       "      <td>NaN</td>\n",
       "      <td>0</td>\n",
       "      <td>0</td>\n",
       "      <td>Deuce</td>\n",
       "      <td>1</td>\n",
       "      <td>0</td>\n",
       "      <td>20180214_Newyork.csv</td>\n",
       "    </tr>\n",
       "    <tr>\n",
       "      <td>27</td>\n",
       "      <td>27.0</td>\n",
       "      <td>102</td>\n",
       "      <td>201802ニューヨーク</td>\n",
       "      <td>ケビン・アンダーソン</td>\n",
       "      <td>1.0</td>\n",
       "      <td>6</td>\n",
       "      <td>圭</td>\n",
       "      <td>○</td>\n",
       "      <td>1</td>\n",
       "      <td>c</td>\n",
       "      <td>186.0</td>\n",
       "      <td>NaN</td>\n",
       "      <td>15</td>\n",
       "      <td>15</td>\n",
       "      <td>Deuce</td>\n",
       "      <td>1</td>\n",
       "      <td>0</td>\n",
       "      <td>20180214_Newyork.csv</td>\n",
       "    </tr>\n",
       "    <tr>\n",
       "      <td>36</td>\n",
       "      <td>36.0</td>\n",
       "      <td>0</td>\n",
       "      <td>201802ニューヨーク</td>\n",
       "      <td>ケビン・アンダーソン</td>\n",
       "      <td>2.0</td>\n",
       "      <td>1</td>\n",
       "      <td>圭</td>\n",
       "      <td>○</td>\n",
       "      <td>1</td>\n",
       "      <td>c</td>\n",
       "      <td>175.0</td>\n",
       "      <td>NaN</td>\n",
       "      <td>0</td>\n",
       "      <td>0</td>\n",
       "      <td>Deuce</td>\n",
       "      <td>1</td>\n",
       "      <td>0</td>\n",
       "      <td>20180214_Newyork.csv</td>\n",
       "    </tr>\n",
       "    <tr>\n",
       "      <td>...</td>\n",
       "      <td>...</td>\n",
       "      <td>...</td>\n",
       "      <td>...</td>\n",
       "      <td>...</td>\n",
       "      <td>...</td>\n",
       "      <td>...</td>\n",
       "      <td>...</td>\n",
       "      <td>...</td>\n",
       "      <td>...</td>\n",
       "      <td>...</td>\n",
       "      <td>...</td>\n",
       "      <td>...</td>\n",
       "      <td>...</td>\n",
       "      <td>...</td>\n",
       "      <td>...</td>\n",
       "      <td>...</td>\n",
       "      <td>...</td>\n",
       "      <td>...</td>\n",
       "    </tr>\n",
       "    <tr>\n",
       "      <td>465</td>\n",
       "      <td>NaN</td>\n",
       "      <td>120</td>\n",
       "      <td>201908全米オープン</td>\n",
       "      <td>トゥルンゲリティ</td>\n",
       "      <td>1.0</td>\n",
       "      <td>6</td>\n",
       "      <td>圭</td>\n",
       "      <td>○</td>\n",
       "      <td>1</td>\n",
       "      <td>w</td>\n",
       "      <td>141.0</td>\n",
       "      <td>NaN</td>\n",
       "      <td>30</td>\n",
       "      <td>0</td>\n",
       "      <td>Deuce</td>\n",
       "      <td>1</td>\n",
       "      <td>0</td>\n",
       "      <td>20190826_USOpen.csv</td>\n",
       "    </tr>\n",
       "    <tr>\n",
       "      <td>475</td>\n",
       "      <td>NaN</td>\n",
       "      <td>2</td>\n",
       "      <td>201908全米オープン</td>\n",
       "      <td>トゥルンゲリティ</td>\n",
       "      <td>2.0</td>\n",
       "      <td>1</td>\n",
       "      <td>圭</td>\n",
       "      <td>×</td>\n",
       "      <td>1</td>\n",
       "      <td>c</td>\n",
       "      <td>165.0</td>\n",
       "      <td>NaN</td>\n",
       "      <td>30</td>\n",
       "      <td>0</td>\n",
       "      <td>Deuce</td>\n",
       "      <td>0</td>\n",
       "      <td>1</td>\n",
       "      <td>20190826_USOpen.csv</td>\n",
       "    </tr>\n",
       "    <tr>\n",
       "      <td>483</td>\n",
       "      <td>NaN</td>\n",
       "      <td>25</td>\n",
       "      <td>201908全米オープン</td>\n",
       "      <td>トゥルンゲリティ</td>\n",
       "      <td>2.0</td>\n",
       "      <td>3</td>\n",
       "      <td>圭</td>\n",
       "      <td>○</td>\n",
       "      <td>1</td>\n",
       "      <td>w</td>\n",
       "      <td>151.0</td>\n",
       "      <td>NaN</td>\n",
       "      <td>0</td>\n",
       "      <td>0</td>\n",
       "      <td>Deuce</td>\n",
       "      <td>1</td>\n",
       "      <td>0</td>\n",
       "      <td>20190826_USOpen.csv</td>\n",
       "    </tr>\n",
       "    <tr>\n",
       "      <td>492</td>\n",
       "      <td>NaN</td>\n",
       "      <td>67</td>\n",
       "      <td>201908全米オープン</td>\n",
       "      <td>トゥルンゲリティ</td>\n",
       "      <td>2.0</td>\n",
       "      <td>5</td>\n",
       "      <td>圭</td>\n",
       "      <td>○</td>\n",
       "      <td>1</td>\n",
       "      <td>c</td>\n",
       "      <td>172.0</td>\n",
       "      <td>Ac</td>\n",
       "      <td>0</td>\n",
       "      <td>0</td>\n",
       "      <td>Deuce</td>\n",
       "      <td>1</td>\n",
       "      <td>0</td>\n",
       "      <td>20190826_USOpen.csv</td>\n",
       "    </tr>\n",
       "    <tr>\n",
       "      <td>494</td>\n",
       "      <td>NaN</td>\n",
       "      <td>69</td>\n",
       "      <td>201908全米オープン</td>\n",
       "      <td>トゥルンゲリティ</td>\n",
       "      <td>2.0</td>\n",
       "      <td>5</td>\n",
       "      <td>圭</td>\n",
       "      <td>○</td>\n",
       "      <td>1</td>\n",
       "      <td>w</td>\n",
       "      <td>157.0</td>\n",
       "      <td>NaN</td>\n",
       "      <td>30</td>\n",
       "      <td>0</td>\n",
       "      <td>Deuce</td>\n",
       "      <td>1</td>\n",
       "      <td>0</td>\n",
       "      <td>20190826_USOpen.csv</td>\n",
       "    </tr>\n",
       "  </tbody>\n",
       "</table>\n",
       "<p>882 rows × 18 columns</p>\n",
       "</div>"
      ],
      "text/plain": [
       "     Unnamed: 0  index    Tournament OpponentPlayer  Set  TotalGame Server  \\\n",
       "14         14.0     44  201802ニューヨーク     ケビン・アンダーソン  1.0          4      圭   \n",
       "18         18.0     48  201802ニューヨーク     ケビン・アンダーソン  1.0          4      圭   \n",
       "25         25.0    100  201802ニューヨーク     ケビン・アンダーソン  1.0          6      圭   \n",
       "27         27.0    102  201802ニューヨーク     ケビン・アンダーソン  1.0          6      圭   \n",
       "36         36.0      0  201802ニューヨーク     ケビン・アンダーソン  2.0          1      圭   \n",
       "..          ...    ...           ...            ...  ...        ...    ...   \n",
       "465         NaN    120  201908全米オープン       トゥルンゲリティ  1.0          6      圭   \n",
       "475         NaN      2  201908全米オープン       トゥルンゲリティ  2.0          1      圭   \n",
       "483         NaN     25  201908全米オープン       トゥルンゲリティ  2.0          3      圭   \n",
       "492         NaN     67  201908全米オープン       トゥルンゲリティ  2.0          5      圭   \n",
       "494         NaN     69  201908全米オープン       トゥルンゲリティ  2.0          5      圭   \n",
       "\n",
       "    WinLose FirstSecond Cource  Speed AceDbF ScoreServer ScoreReturner   Side  \\\n",
       "14        ×           1      b  170.0    NaN           0             0  Deuce   \n",
       "18        ○           1      c  178.0    NaN          15            40  Deuce   \n",
       "25        ○           1      w  149.0    NaN           0             0  Deuce   \n",
       "27        ○           1      c  186.0    NaN          15            15  Deuce   \n",
       "36        ○           1      c  175.0    NaN           0             0  Deuce   \n",
       "..      ...         ...    ...    ...    ...         ...           ...    ...   \n",
       "465       ○           1      w  141.0    NaN          30             0  Deuce   \n",
       "475       ×           1      c  165.0    NaN          30             0  Deuce   \n",
       "483       ○           1      w  151.0    NaN           0             0  Deuce   \n",
       "492       ○           1      c  172.0     Ac           0             0  Deuce   \n",
       "494       ○           1      w  157.0    NaN          30             0  Deuce   \n",
       "\n",
       "     WonA  WonB              filename  \n",
       "14      0     1  20180214_Newyork.csv  \n",
       "18      1     0  20180214_Newyork.csv  \n",
       "25      1     0  20180214_Newyork.csv  \n",
       "27      1     0  20180214_Newyork.csv  \n",
       "36      1     0  20180214_Newyork.csv  \n",
       "..    ...   ...                   ...  \n",
       "465     1     0   20190826_USOpen.csv  \n",
       "475     0     1   20190826_USOpen.csv  \n",
       "483     1     0   20190826_USOpen.csv  \n",
       "492     1     0   20190826_USOpen.csv  \n",
       "494     1     0   20190826_USOpen.csv  \n",
       "\n",
       "[882 rows x 18 columns]"
      ]
     },
     "execution_count": 94,
     "metadata": {},
     "output_type": "execute_result"
    }
   ],
   "source": [
    "df_kei_1st_deuce"
   ]
  },
  {
   "cell_type": "code",
   "execution_count": 59,
   "metadata": {},
   "outputs": [],
   "source": [
    "df_concat.loc[df_concat['Speed']>250,'Speed']=np.nan"
   ]
  },
  {
   "cell_type": "code",
   "execution_count": 7,
   "metadata": {},
   "outputs": [],
   "source": [
    "df_2018=pd.read_csv(\"./data/20180829_USOpen.csv\")\n",
    "df_2019=pd.read_csv(\"./data/20190826_USOpen.csv\")\n",
    "\n",
    "\n"
   ]
  },
  {
   "cell_type": "code",
   "execution_count": 14,
   "metadata": {},
   "outputs": [],
   "source": [
    "df_test=pd.read_csv(\"20190814_Cincinnati.csv\")"
   ]
  },
  {
   "cell_type": "code",
   "execution_count": 8,
   "metadata": {},
   "outputs": [
    {
     "data": {
      "text/html": [
       "<div>\n",
       "<style scoped>\n",
       "    .dataframe tbody tr th:only-of-type {\n",
       "        vertical-align: middle;\n",
       "    }\n",
       "\n",
       "    .dataframe tbody tr th {\n",
       "        vertical-align: top;\n",
       "    }\n",
       "\n",
       "    .dataframe thead th {\n",
       "        text-align: right;\n",
       "    }\n",
       "</style>\n",
       "<table border=\"1\" class=\"dataframe\">\n",
       "  <thead>\n",
       "    <tr style=\"text-align: right;\">\n",
       "      <th></th>\n",
       "      <th>index</th>\n",
       "      <th>Tournament</th>\n",
       "      <th>OpponentPlayer</th>\n",
       "      <th>Set</th>\n",
       "      <th>TotalGame</th>\n",
       "      <th>Server</th>\n",
       "      <th>WinLose</th>\n",
       "      <th>FirstSecond</th>\n",
       "      <th>Cource</th>\n",
       "      <th>Speed</th>\n",
       "      <th>AceDbF</th>\n",
       "      <th>ScoreServer</th>\n",
       "      <th>ScoreReturner</th>\n",
       "      <th>Side</th>\n",
       "      <th>WonA</th>\n",
       "      <th>WonB</th>\n",
       "    </tr>\n",
       "  </thead>\n",
       "  <tbody>\n",
       "    <tr>\n",
       "      <td>0</td>\n",
       "      <td>0</td>\n",
       "      <td>201808全米オープン</td>\n",
       "      <td>ノバク・ジョコビッチ</td>\n",
       "      <td>1</td>\n",
       "      <td>1</td>\n",
       "      <td>獏</td>\n",
       "      <td>×</td>\n",
       "      <td>1</td>\n",
       "      <td>c</td>\n",
       "      <td>181.0</td>\n",
       "      <td>NaN</td>\n",
       "      <td>0</td>\n",
       "      <td>0</td>\n",
       "      <td>Deuce</td>\n",
       "      <td>0</td>\n",
       "      <td>1</td>\n",
       "    </tr>\n",
       "    <tr>\n",
       "      <td>1</td>\n",
       "      <td>1</td>\n",
       "      <td>201808全米オープン</td>\n",
       "      <td>ノバク・ジョコビッチ</td>\n",
       "      <td>1</td>\n",
       "      <td>1</td>\n",
       "      <td>獏</td>\n",
       "      <td>×</td>\n",
       "      <td>2</td>\n",
       "      <td>c</td>\n",
       "      <td>167.0</td>\n",
       "      <td>NaN</td>\n",
       "      <td>0</td>\n",
       "      <td>15</td>\n",
       "      <td>Ad</td>\n",
       "      <td>0</td>\n",
       "      <td>1</td>\n",
       "    </tr>\n",
       "    <tr>\n",
       "      <td>2</td>\n",
       "      <td>2</td>\n",
       "      <td>201808全米オープン</td>\n",
       "      <td>ノバク・ジョコビッチ</td>\n",
       "      <td>1</td>\n",
       "      <td>1</td>\n",
       "      <td>獏</td>\n",
       "      <td>×</td>\n",
       "      <td>1</td>\n",
       "      <td>w</td>\n",
       "      <td>159.0</td>\n",
       "      <td>NaN</td>\n",
       "      <td>0</td>\n",
       "      <td>30</td>\n",
       "      <td>Deuce</td>\n",
       "      <td>0</td>\n",
       "      <td>1</td>\n",
       "    </tr>\n",
       "    <tr>\n",
       "      <td>3</td>\n",
       "      <td>3</td>\n",
       "      <td>201808全米オープン</td>\n",
       "      <td>ノバク・ジョコビッチ</td>\n",
       "      <td>1</td>\n",
       "      <td>1</td>\n",
       "      <td>獏</td>\n",
       "      <td>○</td>\n",
       "      <td>1</td>\n",
       "      <td>x</td>\n",
       "      <td>180.0</td>\n",
       "      <td>NaN</td>\n",
       "      <td>0</td>\n",
       "      <td>40</td>\n",
       "      <td>Ad</td>\n",
       "      <td>1</td>\n",
       "      <td>0</td>\n",
       "    </tr>\n",
       "    <tr>\n",
       "      <td>4</td>\n",
       "      <td>4</td>\n",
       "      <td>201808全米オープン</td>\n",
       "      <td>ノバク・ジョコビッチ</td>\n",
       "      <td>1</td>\n",
       "      <td>1</td>\n",
       "      <td>獏</td>\n",
       "      <td>×</td>\n",
       "      <td>1</td>\n",
       "      <td>w</td>\n",
       "      <td>168.0</td>\n",
       "      <td>NaN</td>\n",
       "      <td>15</td>\n",
       "      <td>40</td>\n",
       "      <td>Deuce</td>\n",
       "      <td>0</td>\n",
       "      <td>1</td>\n",
       "    </tr>\n",
       "  </tbody>\n",
       "</table>\n",
       "</div>"
      ],
      "text/plain": [
       "   index    Tournament OpponentPlayer  Set  TotalGame Server WinLose  \\\n",
       "0      0  201808全米オープン     ノバク・ジョコビッチ    1          1      獏       ×   \n",
       "1      1  201808全米オープン     ノバク・ジョコビッチ    1          1      獏       ×   \n",
       "2      2  201808全米オープン     ノバク・ジョコビッチ    1          1      獏       ×   \n",
       "3      3  201808全米オープン     ノバク・ジョコビッチ    1          1      獏       ○   \n",
       "4      4  201808全米オープン     ノバク・ジョコビッチ    1          1      獏       ×   \n",
       "\n",
       "  FirstSecond Cource  Speed AceDbF ScoreServer ScoreReturner   Side  WonA  \\\n",
       "0           1      c  181.0    NaN           0             0  Deuce     0   \n",
       "1           2      c  167.0    NaN           0            15     Ad     0   \n",
       "2           1      w  159.0    NaN           0            30  Deuce     0   \n",
       "3           1      x  180.0    NaN           0            40     Ad     1   \n",
       "4           1      w  168.0    NaN          15            40  Deuce     0   \n",
       "\n",
       "   WonB  \n",
       "0     1  \n",
       "1     1  \n",
       "2     1  \n",
       "3     0  \n",
       "4     1  "
      ]
     },
     "execution_count": 8,
     "metadata": {},
     "output_type": "execute_result"
    }
   ],
   "source": [
    "df_2018.head()"
   ]
  },
  {
   "cell_type": "code",
   "execution_count": 7,
   "metadata": {},
   "outputs": [
    {
     "ename": "AttributeError",
     "evalue": "'DataFrame' object has no attribute 'header'",
     "output_type": "error",
     "traceback": [
      "\u001b[1;31m---------------------------------------------------------------------------\u001b[0m",
      "\u001b[1;31mAttributeError\u001b[0m                            Traceback (most recent call last)",
      "\u001b[1;32m<ipython-input-7-ebc93bd9889e>\u001b[0m in \u001b[0;36m<module>\u001b[1;34m\u001b[0m\n\u001b[1;32m----> 1\u001b[1;33m \u001b[0mdf_2018\u001b[0m\u001b[1;33m.\u001b[0m\u001b[0mheader\u001b[0m\u001b[1;33m(\u001b[0m\u001b[1;33m)\u001b[0m\u001b[1;33m\u001b[0m\u001b[1;33m\u001b[0m\u001b[0m\n\u001b[0m",
      "\u001b[1;32m~\\Anaconda3\\envs\\datascience\\lib\\site-packages\\pandas\\core\\generic.py\u001b[0m in \u001b[0;36m__getattr__\u001b[1;34m(self, name)\u001b[0m\n\u001b[0;32m   5177\u001b[0m             \u001b[1;32mif\u001b[0m \u001b[0mself\u001b[0m\u001b[1;33m.\u001b[0m\u001b[0m_info_axis\u001b[0m\u001b[1;33m.\u001b[0m\u001b[0m_can_hold_identifiers_and_holds_name\u001b[0m\u001b[1;33m(\u001b[0m\u001b[0mname\u001b[0m\u001b[1;33m)\u001b[0m\u001b[1;33m:\u001b[0m\u001b[1;33m\u001b[0m\u001b[1;33m\u001b[0m\u001b[0m\n\u001b[0;32m   5178\u001b[0m                 \u001b[1;32mreturn\u001b[0m \u001b[0mself\u001b[0m\u001b[1;33m[\u001b[0m\u001b[0mname\u001b[0m\u001b[1;33m]\u001b[0m\u001b[1;33m\u001b[0m\u001b[1;33m\u001b[0m\u001b[0m\n\u001b[1;32m-> 5179\u001b[1;33m             \u001b[1;32mreturn\u001b[0m \u001b[0mobject\u001b[0m\u001b[1;33m.\u001b[0m\u001b[0m__getattribute__\u001b[0m\u001b[1;33m(\u001b[0m\u001b[0mself\u001b[0m\u001b[1;33m,\u001b[0m \u001b[0mname\u001b[0m\u001b[1;33m)\u001b[0m\u001b[1;33m\u001b[0m\u001b[1;33m\u001b[0m\u001b[0m\n\u001b[0m\u001b[0;32m   5180\u001b[0m \u001b[1;33m\u001b[0m\u001b[0m\n\u001b[0;32m   5181\u001b[0m     \u001b[1;32mdef\u001b[0m \u001b[0m__setattr__\u001b[0m\u001b[1;33m(\u001b[0m\u001b[0mself\u001b[0m\u001b[1;33m,\u001b[0m \u001b[0mname\u001b[0m\u001b[1;33m,\u001b[0m \u001b[0mvalue\u001b[0m\u001b[1;33m)\u001b[0m\u001b[1;33m:\u001b[0m\u001b[1;33m\u001b[0m\u001b[1;33m\u001b[0m\u001b[0m\n",
      "\u001b[1;31mAttributeError\u001b[0m: 'DataFrame' object has no attribute 'header'"
     ]
    }
   ],
   "source": [
    "df_2018.header()"
   ]
  },
  {
   "cell_type": "code",
   "execution_count": 25,
   "metadata": {},
   "outputs": [],
   "source": [
    "df_kei_2018=df_2018[df_2018[\"Server\"]==\"圭\"]\n",
    "df_kei_2019=df_2019[df_2019[\"Server\"]==\"圭\"]\n",
    "\n",
    "df_kei_2018_1st=df_kei_2018[df_kei_2018[\"FirstSecond\"]==\"1\"]\n",
    "df_kei_2019_1st=df_kei_2019[df_kei_2019[\"FirstSecond\"]==\"1\"]\n",
    "df_kei_2018_2nd=df_kei_2018[df_kei_2018[\"FirstSecond\"]==\"2\"]\n",
    "df_kei_2019_2nd=df_kei_2019[df_kei_2019[\"FirstSecond\"]==\"2\"]\n",
    "df_kei_2018_1st=df_kei_2018_1st[df_kei_2018_1st['Speed']>100]\n",
    "\n",
    "#Wide\n",
    "df_kei_2018_1st_wide=df_kei_2018_1st[df_kei_2018_1st[\"Cource\"]==\"w\"]\n",
    "df_kei_2019_1st_wide=df_kei_2019_1st[df_kei_2019_1st[\"Cource\"]==\"w\"]\n",
    "\n",
    "df_kei_2018_1st_wide_deuce=df_kei_2018_1st_wide[df_kei_2018_1st_wide[\"Side\"]==\"Deuce\"]\n",
    "df_kei_2018_1st_wide_ad=df_kei_2018_1st_wide[df_kei_2018_1st_wide[\"Side\"]==\"Ad\"]\n",
    "\n",
    "df_kei_2019_1st_wide_deuce=df_kei_2019_1st_wide[df_kei_2019_1st_wide[\"Side\"]==\"Deuce\"]\n",
    "df_kei_2019_1st_wide_ad=df_kei_2019_1st_wide[df_kei_2019_1st_wide[\"Side\"]==\"Ad\"]\n",
    "\n",
    "#Center\n",
    "df_kei_2018_1st_center=df_kei_2018_1st[df_kei_2018_1st[\"Cource\"]==\"c\"]\n",
    "df_kei_2019_1st_center=df_kei_2019_1st[df_kei_2019_1st[\"Cource\"]==\"c\"]\n",
    "\n",
    "df_kei_2018_1st_center_deuce=df_kei_2018_1st_center[df_kei_2018_1st_center[\"Side\"]==\"Deuce\"]\n",
    "df_kei_2018_1st_center_ad=df_kei_2018_1st_center[df_kei_2018_1st_center[\"Side\"]==\"Ad\"]\n",
    "\n",
    "df_kei_2019_1st_center_deuce=df_kei_2019_1st_center[df_kei_2019_1st_center[\"Side\"]==\"Deuce\"]\n",
    "df_kei_2019_1st_center_ad=df_kei_2019_1st_center[df_kei_2019_1st_center[\"Side\"]==\"Ad\"]\n",
    "\n",
    "#Body\n",
    "df_kei_2018_1st_body=df_kei_2018_1st[df_kei_2018_1st[\"Cource\"]==\"b\"]\n",
    "df_kei_2019_1st_body=df_kei_2019_1st[df_kei_2019_1st[\"Cource\"]==\"b\"]\n",
    "\n",
    "df_kei_2018_1st_body_deuce=df_kei_2018_1st_body[df_kei_2018_1st_body[\"Side\"]==\"Deuce\"]\n",
    "df_kei_2018_1st_body_ad=df_kei_2018_1st_body[df_kei_2018_1st_body[\"Side\"]==\"Ad\"]\n",
    "\n",
    "df_kei_2019_1st_body_deuce=df_kei_2019_1st_body[df_kei_2019_1st_body[\"Side\"]==\"Deuce\"]\n",
    "df_kei_2019_1st_body_ad=df_kei_2019_1st_body[df_kei_2019_1st_body[\"Side\"]==\"Ad\"]\n",
    "\n",
    "\n",
    "\n",
    "df_kei_2018_1st_won=df_kei_2018_1st[df_kei_2018_1st[\"WinLose\"]==\"○\"]\n",
    "df_kei_2019_1st_won=df_kei_2019_1st[df_kei_2019_1st[\"WinLose\"]==\"○\"]\n",
    "df_kei_2018_1st_lost=df_kei_2018_1st[df_kei_2018_1st[\"WinLose\"]==\"×\"]\n",
    "df_kei_2019_1st_lost=df_kei_2019_1st[df_kei_2019_1st[\"WinLose\"]==\"×\"]"
   ]
  },
  {
   "cell_type": "code",
   "execution_count": 26,
   "metadata": {},
   "outputs": [
    {
     "name": "stdout",
     "output_type": "stream",
     "text": [
      "wide_deuce 154.92592592592592 158.66666666666666\n",
      "wide_ad 172.9746835443038 160.0\n",
      "center_deuce 184.63829787234042 173.57142857142858\n",
      "center_ad 177.01724137931035 172.75\n",
      "body_deuce 175.0 165.2\n",
      "body_ad 172.2 152.5\n"
     ]
    }
   ],
   "source": [
    "print(\"wide_deuce\",df_kei_2018_1st_wide_deuce['Speed'].mean(),df_kei_2019_1st_wide_deuce['Speed'].mean())\n",
    "print(\"wide_ad\",df_kei_2018_1st_wide_ad['Speed'].mean(),df_kei_2019_1st_wide_ad['Speed'].mean())\n",
    "\n",
    "print(\"center_deuce\",df_kei_2018_1st_center_deuce['Speed'].mean(),df_kei_2019_1st_center_deuce['Speed'].mean())\n",
    "print(\"center_ad\",df_kei_2018_1st_center_ad['Speed'].mean(),df_kei_2019_1st_center_ad['Speed'].mean())\n",
    "\n",
    "print(\"body_deuce\",df_kei_2018_1st_body_deuce['Speed'].mean(),df_kei_2019_1st_body_deuce['Speed'].mean())\n",
    "print(\"body_ad\",df_kei_2018_1st_body_ad['Speed'].mean(),df_kei_2019_1st_body_ad['Speed'].mean())"
   ]
  },
  {
   "cell_type": "code",
   "execution_count": null,
   "metadata": {},
   "outputs": [],
   "source": []
  },
  {
   "cell_type": "code",
   "execution_count": 48,
   "metadata": {},
   "outputs": [
    {
     "data": {
      "image/png": "[encoded data removed]",
      "text/plain": [
       "<Figure size 432x288 with 1 Axes>"
      ]
     },
     "metadata": {
      "needs_background": "light"
     },
     "output_type": "display_data"
    }
   ],
   "source": [
    "#Duece\n",
    "wide_deuce_2018=int(df_kei_2018_1st_wide_deuce['Speed'].mean())\n",
    "wide_deuce_2019=int(df_kei_2019_1st_wide_deuce['Speed'].mean())\n",
    "\n",
    "body_deuce_2018=int(df_kei_2018_1st_body_deuce['Speed'].mean())\n",
    "body_deuce_2019=int(df_kei_2019_1st_body_deuce['Speed'].mean())\n",
    "\n",
    "center_deuce_2018=int(df_kei_2018_1st_center_deuce['Speed'].mean())\n",
    "center_deuce_2019=int(df_kei_2019_1st_center_deuce['Speed'].mean())\n",
    "\n",
    "#Ad\n",
    "center_ad_2018=int(df_kei_2018_1st_center_ad['Speed'].mean())\n",
    "center_ad_2019=int(df_kei_2019_1st_center_ad['Speed'].mean())\n",
    "\n",
    "body_ad_2018=int(df_kei_2018_1st_body_ad['Speed'].mean())\n",
    "body_ad_2019=int(df_kei_2019_1st_body_ad['Speed'].mean())\n",
    "\n",
    "wide_ad_2018=int(df_kei_2018_1st_wide_ad['Speed'].mean())\n",
    "wide_ad_2019=int(df_kei_2019_1st_wide_ad['Speed'].mean())\n",
    "\n",
    "left1=[1,2,3,5,6,7]\n",
    "left2=[1.5,2.5,3.5,5.5,6.5,7.5]\n",
    "labels=['Wide','Body','Center','Center','Body','Wide']\n",
    "\n",
    "dataArray_2018=[wide_deuce_2018,body_deuce_2018,center_deuce_2018,center_ad_2018,body_ad_2018,wide_ad_2018]\n",
    "dataArray_2019=[wide_deuce_2019,body_deuce_2019,center_deuce_2019,center_ad_2019,body_ad_2019,wide_ad_2019]\n",
    "\n",
    "w=0.4\n",
    "plt.bar(left1,dataArray_2018,width=w,label='Year 2018')\n",
    "plt.bar(left2,dataArray_2019,width=w,label='Year 2019')\n",
    "\n",
    "#plt.title('錦織(vsジョコビッチ 2018全米オープン) 2ndサーブ 配給率・ポイント率% \\nデータ元【錦織圭実況掲示板】')\n",
    "#plt.ylabel('配給率・ポイント率%  %')\n",
    "#plt.title('錦織(vsジョコビッチ 2018全米オープン) 2ndサーブ 配給率・ポイント率% \\nデータ元【錦織圭実況掲示板】')\n",
    "plt.title('2018 vs 2019 USOpen \\n Nishikori Serve Speed')\n",
    "plt.ylabel('kmh')\n",
    "plt.xlabel('Deuce                                                Ad')\n",
    "\n",
    "label_left =[1+w/2,2+w/2,3+w/2,5+w/2,6+w/2,7+w/2]\n",
    "plt.xticks(label_left,labels)\n",
    "plt.ylim([0,200])\n",
    "\n",
    "\n",
    "for x, y in zip(left1, dataArray_2018):\n",
    "    plt.text(x, y, y, ha='center', va='bottom')\n",
    "    \n",
    "for x, y in zip(left2, dataArray_2019):\n",
    "    plt.text(x, y, y, ha='center', va='bottom') \n",
    "plt.legend()\n",
    "plt.legend(loc='lower center')\n",
    "\n",
    "plt.savefig('CompareSpeed.png')"
   ]
  },
  {
   "cell_type": "code",
   "execution_count": 65,
   "metadata": {},
   "outputs": [
    {
     "data": {
      "image/png": "[encoded data removed]",
      "text/plain": [
       "<Figure size 432x288 with 1 Axes>"
      ]
     },
     "metadata": {
      "needs_background": "light"
     },
     "output_type": "display_data"
    }
   ],
   "source": [
    "#1 wide_duece\n",
    "df_kei_2018_1st_wide_deuce['Speed'].hist(bins=20, alpha=.6,label=\"Year 2018\")\n",
    "df_kei_2019_1st_wide_deuce['Speed'].hist(bins=20, alpha=.6,label=\"Year 2019\")\n",
    "plt.title('1 Duece Wide')\n",
    "plt.ylabel('num')\n",
    "plt.legend()\n",
    "plt.savefig('Duece_Wide.png')"
   ]
  },
  {
   "cell_type": "code",
   "execution_count": 69,
   "metadata": {},
   "outputs": [
    {
     "data": {
      "image/png": "[encoded data removed]",
      "text/plain": [
       "<Figure size 432x288 with 1 Axes>"
      ]
     },
     "metadata": {
      "needs_background": "light"
     },
     "output_type": "display_data"
    }
   ],
   "source": [
    "#2 center_duece\n",
    "df_kei_2018_1st_center_deuce['Speed'].hist(bins=20, alpha=.6,label=\"Year 2018\")\n",
    "df_kei_2019_1st_center_deuce['Speed'].hist(bins=20, alpha=.6,label=\"Year 2019\")\n",
    "plt.title('2 Duece Center')\n",
    "plt.ylabel('num')\n",
    "plt.legend()\n",
    "plt.savefig('Duece_Center.png')"
   ]
  },
  {
   "cell_type": "code",
   "execution_count": 72,
   "metadata": {},
   "outputs": [
    {
     "data": {
      "image/png": "[encoded data removed]",
      "text/plain": [
       "<Figure size 432x288 with 1 Axes>"
      ]
     },
     "metadata": {
      "needs_background": "light"
     },
     "output_type": "display_data"
    }
   ],
   "source": [
    "#3 wide_ad\n",
    "df_kei_2018_1st_wide_ad['Speed'].hist(bins=20, alpha=.6,label=\"Year 2018\")\n",
    "df_kei_2019_1st_wide_ad['Speed'].hist(bins=20, alpha=.6,label=\"Year 2019\")\n",
    "plt.title('3 Ad Wide')\n",
    "plt.ylabel('num')\n",
    "plt.legend()\n",
    "plt.savefig('Ad_Wide.png')"
   ]
  },
  {
   "cell_type": "code",
   "execution_count": 71,
   "metadata": {},
   "outputs": [
    {
     "data": {
      "image/png": "[encoded data removed]",
      "text/plain": [
       "<Figure size 432x288 with 1 Axes>"
      ]
     },
     "metadata": {
      "needs_background": "light"
     },
     "output_type": "display_data"
    }
   ],
   "source": [
    "#4 center_ad\n",
    "df_kei_2018_1st_center_ad['Speed'].hist(bins=20, alpha=.6,label=\"Year 2018\")\n",
    "df_kei_2019_1st_center_ad['Speed'].hist(bins=20, alpha=.6,label=\"Year 2019\")\n",
    "plt.title('4 Ad Center')\n",
    "plt.ylabel('num')\n",
    "plt.legend()\n",
    "plt.savefig('Ad_Center.png')"
   ]
  },
  {
   "cell_type": "code",
   "execution_count": null,
   "metadata": {},
   "outputs": [],
   "source": []
  },
  {
   "cell_type": "code",
   "execution_count": 11,
   "metadata": {},
   "outputs": [
    {
     "data": {
      "image/png": "[encoded data removed]",
      "text/plain": [
       "<Figure size 432x288 with 1 Axes>"
      ]
     },
     "metadata": {
      "needs_background": "light"
     },
     "output_type": "display_data"
    }
   ],
   "source": [
    "df_kei_2018_1st_won['Speed'].hist(bins=20, alpha=.5,label=\"1st\")\n",
    "df_kei_2018_1st_lost['Speed'].hist(bins=20,color=\"#F8766D\", alpha=.5,label=\"2nd\")\n",
    "plt.xlim(120,220)\n",
    "plt.xlabel(\"Speed kmh\")\n",
    "plt.ylabel(\"num\")\n",
    "plt.title(\"2018 USOpen Nishikori Serve Speed\")\n",
    "plt.legend()\n",
    "plt.show()\n"
   ]
  },
  {
   "cell_type": "code",
   "execution_count": 10,
   "metadata": {},
   "outputs": [
    {
     "data": {
      "image/png": "[encoded data removed]",
      "text/plain": [
       "<Figure size 432x288 with 1 Axes>"
      ]
     },
     "metadata": {
      "needs_background": "light"
     },
     "output_type": "display_data"
    }
   ],
   "source": [
    "df_kei_2019_1st_won['Speed'].hist(bins=20, alpha=.5,label=\"1st\")\n",
    "df_kei_2019_1st_lost['Speed'].hist(bins=20,color=\"#F8766D\", alpha=.5,label=\"2nd\")\n",
    "plt.xlim(120,220)\n",
    "plt.xlabel(\"Speed kmh\")\n",
    "plt.ylabel(\"num\")\n",
    "plt.title(\"2019 USOpen Nishikori Serve Speed\")\n",
    "plt.legend()\n",
    "plt.show()"
   ]
  },
  {
   "cell_type": "code",
   "execution_count": 133,
   "metadata": {},
   "outputs": [
    {
     "data": {
      "text/plain": [
       "210.0"
      ]
     },
     "execution_count": 133,
     "metadata": {},
     "output_type": "execute_result"
    }
   ],
   "source": [
    "df_kei_2018_1st['Speed'].max()"
   ]
  },
  {
   "cell_type": "code",
   "execution_count": 134,
   "metadata": {},
   "outputs": [
    {
     "data": {
      "text/plain": [
       "170.6993006993007"
      ]
     },
     "execution_count": 134,
     "metadata": {},
     "output_type": "execute_result"
    }
   ],
   "source": [
    "df_kei_2018_1st['Speed'].mean()"
   ]
  },
  {
   "cell_type": "code",
   "execution_count": 135,
   "metadata": {},
   "outputs": [
    {
     "data": {
      "text/plain": [
       "191.0"
      ]
     },
     "execution_count": 135,
     "metadata": {},
     "output_type": "execute_result"
    }
   ],
   "source": [
    "df_kei_2019_1st['Speed'].max()"
   ]
  },
  {
   "cell_type": "code",
   "execution_count": 136,
   "metadata": {},
   "outputs": [
    {
     "data": {
      "text/plain": [
       "164.64077669902912"
      ]
     },
     "execution_count": 136,
     "metadata": {},
     "output_type": "execute_result"
    }
   ],
   "source": [
    "df_kei_2019_1st['Speed'].mean()"
   ]
  },
  {
   "cell_type": "code",
   "execution_count": 129,
   "metadata": {},
   "outputs": [
    {
     "data": {
      "text/plain": [
       "<matplotlib.axes._subplots.AxesSubplot at 0x20203e4bf88>"
      ]
     },
     "execution_count": 129,
     "metadata": {},
     "output_type": "execute_result"
    },
    {
     "data": {
      "image/png": "[encoded data removed]",
      "text/plain": [
       "<Figure size 432x288 with 1 Axes>"
      ]
     },
     "metadata": {
      "needs_background": "light"
     },
     "output_type": "display_data"
    }
   ],
   "source": [
    "df_kei_2018_1st['Speed'].hist(bins=50)"
   ]
  },
  {
   "cell_type": "code",
   "execution_count": 120,
   "metadata": {},
   "outputs": [
    {
     "data": {
      "text/plain": [
       "<bound method Series.mean of 0      175.0\n",
       "1        NaN\n",
       "3        NaN\n",
       "5      168.0\n",
       "11     170.0\n",
       "       ...  \n",
       "492    172.0\n",
       "493    172.0\n",
       "494    157.0\n",
       "495      NaN\n",
       "496      NaN\n",
       "Name: Speed, Length: 184, dtype: float64>"
      ]
     },
     "execution_count": 120,
     "metadata": {},
     "output_type": "execute_result"
    }
   ],
   "source": [
    "df_kei_2019_1st['Speed'].mean"
   ]
  },
  {
   "cell_type": "code",
   "execution_count": 140,
   "metadata": {},
   "outputs": [
    {
     "data": {
      "image/png": "[encoded data removed]",
      "text/plain": [
       "<Figure size 432x288 with 1 Axes>"
      ]
     },
     "metadata": {
      "needs_background": "light"
     },
     "output_type": "display_data"
    }
   ],
   "source": [
    "df_kei_2018_1st['Speed'].hist(bins=20, alpha=.5,label=\"1st\")\n",
    "df_kei_2018_2nd['Speed'].hist(bins=20,color=\"#F8766D\", alpha=.5,label=\"2nd\")\n",
    "plt.xlim(120,220)\n",
    "plt.xlabel(\"Speed kmh\")\n",
    "plt.ylabel(\"num\")\n",
    "plt.title(\"2018 USOpen Nishikori Serve Speed\")\n",
    "plt.legend()\n",
    "plt.show()"
   ]
  },
  {
   "cell_type": "code",
   "execution_count": 12,
   "metadata": {},
   "outputs": [
    {
     "data": {
      "image/png": "[encoded data removed]",
      "text/plain": [
       "<Figure size 432x288 with 1 Axes>"
      ]
     },
     "metadata": {
      "needs_background": "light"
     },
     "output_type": "display_data"
    }
   ],
   "source": [
    "df_kei_2018_1st_wide_deuce['Speed'].hist(bins=15, alpha=.5,label=\"1st deuce wide\")\n",
    "df_kei_2018_1st_wide_ad['Speed'].hist(bins=20, color=\"#0000cd\",alpha=.5,label=\"1st ad wide\")\n",
    "df_kei_2018_1st_body['Speed'].hist(bins=20,color=\"#F8766D\", alpha=.5,label=\"1st body\")\n",
    "df_kei_2018_1st_center['Speed'].hist(bins=15,color=\"#f0e68c\", alpha=.5,label=\"1st center\")\n",
    "plt.xlim(120,220)\n",
    "plt.xlabel(\"Speed kmh\")\n",
    "plt.ylabel(\"num\")\n",
    "plt.title(\"2018 USOpen Nishikori Serve Speed\")\n",
    "plt.legend()\n",
    "\n",
    "plt.savefig('figure_2018.png')\n",
    "\n",
    "plt.show()\n",
    "\n"
   ]
  },
  {
   "cell_type": "code",
   "execution_count": 13,
   "metadata": {},
   "outputs": [
    {
     "data": {
      "image/png": "[encoded data removed]",
      "text/plain": [
       "<Figure size 432x288 with 1 Axes>"
      ]
     },
     "metadata": {
      "needs_background": "light"
     },
     "output_type": "display_data"
    }
   ],
   "source": [
    "df_kei_2019_1st_wide_deuce['Speed'].hist(bins=15, alpha=.5,label=\"1st deuce wide\")\n",
    "df_kei_2019_1st_wide_ad['Speed'].hist(bins=15, color=\"#0000cd\",alpha=.5,label=\"1st ad wide\")\n",
    "df_kei_2019_1st_body['Speed'].hist(bins=20,color=\"#F8766D\", alpha=.5,label=\"1st body\")\n",
    "df_kei_2019_1st_center['Speed'].hist(bins=15,color=\"#f0e68c\", alpha=.5,label=\"1st center\")\n",
    "plt.xlim(120,220)\n",
    "plt.xlabel(\"Speed kmh\")\n",
    "plt.ylabel(\"num\")\n",
    "plt.title(\"2019 USOpen Nishikori Serve Speed\")\n",
    "plt.legend()\n",
    "\n",
    "plt.savefig('figure_2019.png')\n",
    "\n",
    "plt.show()"
   ]
  },
  {
   "cell_type": "code",
   "execution_count": 79,
   "metadata": {},
   "outputs": [
    {
     "data": {
      "image/png": "[encoded data removed]",
      "text/plain": [
       "<Figure size 432x288 with 1 Axes>"
      ]
     },
     "metadata": {
      "needs_background": "light"
     },
     "output_type": "display_data"
    }
   ],
   "source": [
    "\n",
    "\n",
    "data_2018 = df_kei_2018_1st['Speed']\n",
    "data_2019 = df_kei_2019_1st['Speed']\n",
    "\n",
    "# plt.hist(male[\"height\"].values, color=\"#5F9BFF\", alpha=.5)\n",
    "# plt.hist(female[\"height\"].values, color=\"#F8766D\", alpha=.5)\n",
    "data_2018.hist(color=\"#5F9BFF\", alpha=.5,bins=50)\n",
    "data_2019.hist(color=\"#F8766D\", alpha=.5,bins=50)\n",
    "\n",
    "plt.xlabel(\"Speed kmh\")\n",
    "plt.ylabel(\"num\")\n",
    "\n",
    "plt.xlim(120,220)\n",
    "\n",
    "\n",
    "plt.show()\n",
    "\n",
    "\n"
   ]
  },
  {
   "cell_type": "code",
   "execution_count": null,
   "metadata": {},
   "outputs": [],
   "source": [
    "df_kei_2018_1st['Speed'].hist(bins=20, alpha=.5,label=\"1st\")\n",
    "df_kei_2018_2nd['Speed'].hist(bins=20,color=\"#F8766D\", alpha=.5,label=\"2nd\")\n",
    "plt.xlim(120,220)\n",
    "plt.xlabel(\"Speed kmh\")\n",
    "plt.ylabel(\"num\")\n",
    "plt.title(\"2018 USOpen Nishikori Serve Speed\")\n",
    "plt.legend()\n",
    "plt.show()"
   ]
  }
 ],
 "metadata": {
  "kernelspec": {
   "display_name": "Python 3",
   "language": "python",
   "name": "python3"
  },
  "language_info": {
   "codemirror_mode": {
    "name": "ipython",
    "version": 3
   },
   "file_extension": ".py",
   "mimetype": "text/x-python",
   "name": "python",
   "nbconvert_exporter": "python",
   "pygments_lexer": "ipython3",
   "version": "3.7.4"
  }
 },
 "nbformat": 4,
 "nbformat_minor": 2
}
